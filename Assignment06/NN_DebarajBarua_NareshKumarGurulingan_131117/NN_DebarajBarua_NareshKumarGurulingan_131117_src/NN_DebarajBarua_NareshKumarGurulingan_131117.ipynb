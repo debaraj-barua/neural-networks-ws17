{
 "cells": [
  {
   "cell_type": "markdown",
   "metadata": {
    "deletable": true,
    "editable": true
   },
   "source": [
    "# Hochschule Bonn-Rhein-Sieg\n",
    "\n",
    "# Neural Networks, WS17/18\n",
    "\n",
    "# Assignment 06 (13-November-2017)\n",
    "\n",
    "##  Debaraj Barua, Naresh Kumar Gurulingan"
   ]
  },
  {
   "cell_type": "code",
   "execution_count": 1,
   "metadata": {
    "collapsed": false,
    "deletable": true,
    "editable": true
   },
   "outputs": [],
   "source": [
    "import numpy as np\n",
    "import matplotlib.pyplot as plt\n",
    "import sympy as sp\n",
    "import IPython"
   ]
  },
  {
   "cell_type": "markdown",
   "metadata": {
    "deletable": true,
    "editable": true
   },
   "source": [
    "---\n",
    "## Question 1:\n",
    "\n",
    "Read chapter 4 from Haykin’s book (2nd edition), starting from section 4.1 to 4.6(including 4.6). Summarize or sketch your insights in mind-map or an outline or a summary."
   ]
  },
  {
   "cell_type": "markdown",
   "metadata": {
    "collapsed": true,
    "deletable": true,
    "editable": true
   },
   "source": [
    "### Answer 1:\n",
    "\n",
    "#### Error Propagation:\n",
    "- Forward Pass\n",
    "    - Synaptic weights of network are all fixed\n",
    "- Backward Pass\n",
    "    -  Synaptic weights are all adjusted in accordance with an error correction rule.\n",
    "    - Actual response of the network is subtracted form the desired response to produce an error signal.\n",
    "    - The error signal is then propagated backward through the network, against the direction of the synaptic connections - hence the name \"error back-propagation\"\n",
    "    \n",
    "#### Characteristics\n",
    "1. Non-linear activation function\n",
    "    - Model includes a noninear activation function.\n",
    "    - The non-linearity is smooth (i.e., differentiable everywhere). Eg, sigmoidal nonlinearity, $y=\\frac{1}{1+e^{-v_j}}$\n",
    "    \n",
    "2. Hidden Neurons\n",
    "    -  The netowrk contains one or more layyers of hidden neurons that are not part of the input or output of the network.\n",
    "    - These hidden neurons enable learning of complex tasks by extraction of more meaningful features from input patterns.\n",
    "    \n",
    "3. Connectivity\n",
    "    -  Network exhibits high degrees of connectivity determined by the synapses of the network.\n",
    "\n",
    "#### Types of Signals in Multilayer perceptron\n",
    "- Function Signals or input signal\n",
    "- Error Signals\n",
    "    -  Originates at the output neuron and prpagates backward (layer by layer) through the network.\n",
    "\n",
    "#### Back-propagation Algorithm\n",
    "$$\\Delta w_{ji}(n)=-\\eta\\delta_j y_i(n)$$\n",
    "Where, \n",
    "\\begin{align*}\n",
    "\\delta_j&\\text{ is the local gradient for neuron j}\\\\\n",
    "\\eta&\\text{ is the learning rate}\\\\\n",
    "y_i&\\text{ is the input signal of neuron j}\\\\\n",
    "&\\text{ i.e., the ouput of neuron i from the previous layer}\n",
    "\\end{align*}\n",
    "\n",
    "- Cases:\n",
    "    - $j$ is a output neuron\n",
    "    - $j$ is a hidden neuron\n",
    "\n",
    "\\begin{align*}\n",
    "\\delta_j&=\\begin{cases}\n",
    "                -\\phi'(v_j)(d_j-y_j)\\\\\n",
    "                -\\phi'(v_j)\\sum_{k\\in C}\\delta_k w_{kj}\n",
    "            \\end{cases}\n",
    "\\end{align*}\n",
    "Where, $C$ denotes the set of neurons in the layer following the one containing $j$\n",
    "\n",
    "#### Phases of Computation\n",
    "- *Forward Pass*:\n",
    "    - Run the NN and compute the error for each neuron of the output layer using the known desired output signal.\n",
    "- *Backward Pass*\n",
    "    - start at the output layer, and pass the errors backwards through the network, layer by layer, by recursively computing the local gradient of each neuron.\n",
    "    - It is derived from chain rule, and needs a differentiable squashing function.\n",
    "\n",
    "#### Rate of Learning\n",
    "- If $\\eta$ is small, the learning rate is slower, as such convergence is slow.\n",
    "- On the other hand, if $\\eta$ is large, the change in weight is large, which may lead to oscillatory (unstable) behaviour.\n",
    "- To overcome the above, a *momentum* term ($\\alpha$) is included in the delta rule.\n",
    "$$\\underbrace{\\Delta w_{ji}(n)=\\alpha \\Delta w_{ji}(n-1)-\\eta\\delta_j(n) y_i(n)}_\\text{Generalized Delta Rule}$$\n",
    "- The $\\alpha$ acts as a balancing factor by accelerating the descent in setady downhill direction and stabilizes the effect in direction that oscillate in time.\n",
    "\n",
    "#### Modes of Training\n",
    "1. Sequential Mode (*online, pattern or stochastic mode*):\n",
    "    - The inputs and the desired outputs are presented one after the other and sequential forward and backward computations are performed, and update weights after each input-output.\n",
    "    \n",
    "2. Batch Mode\n",
    "    - Weights are updated after the presentation of all the training examples that constitute and epoch.\n",
    "    - Cost function for a particular epich is considered as the average squared error.\n",
    "        $$\\xi_{av}=\\frac{1}{2N}\\sum_{n=1}^{N}\\sum_{j=C}e_j^2(n)$$\n",
    "       $e_j(n)$ pertains to output neuron $j$ for training example $n$\n",
    "    - For a learning rate parameter $\\eta$, the adjustment applied to the synaptic weight $w_{ji}$, is defined by the delta rule\n",
    "        \\begin{align*}\n",
    "            \\Delta w_{ji} &=-\\eta\\frac{\\delta \\xi_{av}}{\\delta w_{ji}}\\\\\n",
    "                          &=-\\frac{\\eta}{N}\\sum_{n=1}^{N}e_j(n)\\frac{\\delta e_j(n)}{\\delta w_{ji}}\n",
    "        \\end{align*}\n",
    "- Although sequential mode has several disadvantages, however, it is still popular because:\n",
    "    - Simple to implement.\n",
    "    - Provides effective solution to large and difficult problems.\n",
    "    \n",
    "#### Stopping Criteria\n",
    "- *Average squared error change*: Absolute rate of change in the average squared error per epoch is sufficiently small.\n",
    "- *Generalization based criterion*: After each epoch the NN is tested for generalization. If the generalization performance is adequate then stop. Here, generalization means how well the I/O mapping computed by the network represents the new data.\n",
    "\n",
    "#### Steps of Back-propagation algorithm:\n",
    "1. Initialization.\n",
    "2. Presenting of training examples.\n",
    "3. Forward Computaion.\n",
    "4. Backward Computaion.\n",
    "5. Iteration.\n",
    "\n",
    "\n",
    "#### Heuristics to imporove Back-propagation algorithm\n",
    "1. Sequential versus batch update\n",
    "2. Maximizing Information content\n",
    "    - Every training example presented to the algorithm should be chosen on the basis that it's information content is largest possible.\n",
    "3. Activation function\n",
    "    - A multilayer perceptron trained with the back propagation algorithm may, in general, learn faster when the sigmoid activation function built into the neuron model of the network is antisymmetric than when it is nonsymmetric.\n",
    "    - An activation function $\\varphi(v)$ is antisymmetric if $$\\varphi(-v)=-\\varphi (v)$$\n",
    "4. Target values\n",
    "    - Desired responses should be chosen within the range of the sigmoid activation function.\n",
    "5. Normalizing Inputs\n",
    "    - Each input needs to be preprocessed so that it's mean value, averaged over the entire training set, is close to zero.\n",
    "6. Initialization\n",
    "    - It is desirable for the uniform distributuion, from which the synaptic weights are selected to have a mean of zero, and a variance equal to the reciprocal of the number of synaptic connections of a neuron.\n",
    "7. Learning from hints\n",
    "    - This is achieved by allowing prior information that we may have abbout the unknown function to be included in the learning process.\n",
    "    - Such information may include invariance properties, symmetries or any other information.\n",
    "8. Learning Rates\n",
    "    - Learning rates may be adapted according to the below heuristics:\n",
    "        - Every weight should have it's own learning rate\n",
    "        - Every learning rate should be allowed to vary from one iteration to the next."
   ]
  },
  {
   "cell_type": "markdown",
   "metadata": {
    "deletable": true,
    "editable": true
   },
   "source": [
    "---\n",
    "## Question 2:\n",
    "\n",
    "For this task you have to program the back-propogation (BP) for multi layered perceptron (MLP). Design your implementation for general NN with arbitrary many hidden layers. The test case is as follows:  2-2-1 multi layered perceptron (MLP) with sigmoid activation function on XOR data."
   ]
  },
  {
   "cell_type": "code",
   "execution_count": 2,
   "metadata": {
    "collapsed": false,
    "deletable": true,
    "editable": true
   },
   "outputs": [],
   "source": [
    "class NeuralNetwork():\n",
    "    \"\"\"\n",
    "    3 layer neural network with 1 input layer, 1 hidden layer, \n",
    "    1 output layer...\n",
    "    2-2-1 Neural Network..\n",
    "    \"\"\"\n",
    "    def __init__(self, num_hidden_neurons = 2, learning_rate = 1, epochs = 100000,\n",
    "                 num_inputs = 2, zero_weight_init = False, epsilon= 1e-3):\n",
    "        # Layer 0 --> input, Layer 1 --> hidden, Layer 2 --> output\n",
    "        if zero_weight_init == False:\n",
    "            np.random.seed(0)\n",
    "            # weights and biases randomly initialized...\n",
    "            self.w_layer01 = np.random.rand(num_inputs + 1, num_hidden_neurons)\n",
    "            self.w_layer12 = np.random.rand(num_hidden_neurons + 1, 1)\n",
    "        else:\n",
    "            # weights and biases initialized to zero...\n",
    "            self.w_layer01 = np.zeros((num_inputs + 1, num_hidden_neurons))\n",
    "            self.w_layer12 = np.zeros((num_hidden_neurons + 1, 1))\n",
    "            \n",
    "        self.num_hidden_neurons = num_hidden_neurons\n",
    "        self.learning_rate = learning_rate\n",
    "        self.epsilon = epsilon\n",
    "        self.epochs = epochs\n",
    "        \n",
    "    def non_linearity(self, value, derivative = False):\n",
    "        if derivative == True: # return slope of sigmoid..\n",
    "            return value * (1. - value)\n",
    "        # included to avoid overflow in numpy exponent..\n",
    "        value = np.array(value, dtype = np.float128)\n",
    "        value = np.clip( value, -500, 500 )\n",
    "        # return sigmoid activation value...\n",
    "        return 1./(1. + np.exp(-value)) \n",
    "        \n",
    "    def train(self, input_array, output_array):\n",
    "        # appending 1 for bias corresponding input..\n",
    "        layer0 = np.insert(input_array, 0, 1, axis = 1)\n",
    "        iteration = 0\n",
    "        while(True):\n",
    "            layer1_local_field = layer0.dot(self.w_layer01)\n",
    "            layer1_output = self.non_linearity(layer1_local_field)\n",
    "            # appending 1 for bias corresponding to output neuron..\n",
    "            layer1_output = np.insert(layer1_output, 0, 1, axis = 1)\n",
    "            \n",
    "            layer2_local_field = layer1_output.dot(self.w_layer12)\n",
    "            layer2_output = self.non_linearity(layer2_local_field)\n",
    "            \n",
    "            # negative of error..\n",
    "            layer2_error = -(output_array - layer2_output)\n",
    "            layer2_delta = layer2_error * self.non_linearity(\n",
    "                layer2_output, derivative = True)\n",
    "            \n",
    "            layer1_error = layer2_delta.dot(self.w_layer12.T)\n",
    "            layer1_delta = layer1_error * self.non_linearity(\n",
    "                layer1_output, derivative = True)\n",
    "            # removing delta corresponding to appended input..\n",
    "            layer1_delta = np.delete(layer1_delta, 0, 1)\n",
    "            \n",
    "            # update weights based on error and slope of sigmoid...\n",
    "            self.w_layer12 -= self.learning_rate * (\n",
    "                layer1_output.T.dot(layer2_delta))\n",
    "            \n",
    "            self.w_layer01 -= self.learning_rate * (\n",
    "                layer0.T.dot(layer1_delta))\n",
    "            # mean training error...\n",
    "            training_error = np.mean(np.abs(layer2_error))\n",
    "            \n",
    "            if iteration % 100000 == 0:\n",
    "                print 'Epoch: ', iteration, '......', 'Training Error: ', (\n",
    "                    training_error)\n",
    "            # convergence after squared error is low..\n",
    "            if iteration > self.epochs or (\n",
    "                np.sum(layer2_error ** 2) < self.epsilon): \n",
    "                break\n",
    "            \n",
    "            iteration += 1\n",
    "                \n",
    "        print '-----------------------------------------------------------'\n",
    "        if iteration > self.epochs: \n",
    "            print 'Max epochs reached...'\n",
    "        else:\n",
    "            print 'Epoch: ', iteration, '......', 'Training Error: ', (\n",
    "                    training_error)\n",
    "            print 'Error has converged...'\n",
    "        print '-----------------------------------------------------------'\n",
    "        return [training_error, iteration]\n",
    "                \n",
    "    def predict(self, input_array, labels= []):\n",
    "        layer0 = np.insert(input_array, 0, 1, axis = 1)\n",
    "        layer1_local_field = layer0.dot(self.w_layer01)\n",
    "        layer1_output = self.non_linearity(layer1_local_field)\n",
    "        layer1_output = np.insert(layer1_output, 0, 1, axis = 1)\n",
    "        \n",
    "        layer2_local_field = layer1_output.dot(self.w_layer12)\n",
    "        layer2_output = self.non_linearity(layer2_local_field)\n",
    "        \n",
    "        if labels == []:\n",
    "            # predicted result is returned..\n",
    "            return layer2_output\n",
    "        else:\n",
    "            layer2_error = layer2_output - labels\n",
    "            # average generalization error is returned..\n",
    "            return np.mean(np.abs(layer2_error))"
   ]
  },
  {
   "cell_type": "code",
   "execution_count": 3,
   "metadata": {
    "collapsed": false,
    "deletable": true,
    "editable": true
   },
   "outputs": [
    {
     "name": "stdout",
     "output_type": "stream",
     "text": [
      "(4, 2)\n",
      "(4, 1)\n"
     ]
    }
   ],
   "source": [
    "# XOR..\n",
    "input_data = np.array([[0., 1.], [1., 0.], [1., 1.], [0., 0.]])\n",
    "labels = np.array([1., 1., 0., 0.]).reshape(-1, 1)\n",
    "\n",
    "print input_data.shape\n",
    "print labels.shape"
   ]
  },
  {
   "cell_type": "markdown",
   "metadata": {
    "deletable": true,
    "editable": true
   },
   "source": [
    "## 2.a. Experiments with initial weights\n",
    "\n",
    "### i) Train the network with zero initial weights i.e. $w_{ij} = 0$."
   ]
  },
  {
   "cell_type": "code",
   "execution_count": 4,
   "metadata": {
    "collapsed": false,
    "deletable": true,
    "editable": true
   },
   "outputs": [
    {
     "name": "stdout",
     "output_type": "stream",
     "text": [
      "Epoch:  0 ...... Training Error:  0.5\n",
      "-----------------------------------------------------------\n",
      "Epoch:  2804 ...... Training Error:  0.0175130548576\n",
      "Error has converged...\n",
      "-----------------------------------------------------------\n",
      "Epoch:  0 ...... Training Error:  0.346051023431\n",
      "-----------------------------------------------------------\n",
      "Epoch:  3478 ...... Training Error:  0.0152021255997\n",
      "Error has converged...\n",
      "-----------------------------------------------------------\n"
     ]
    }
   ],
   "source": [
    "network = NeuralNetwork(zero_weight_init= True,\n",
    "                       epsilon= 1e-3)\n",
    "# training with unbalanced data...\n",
    "error = network.train(input_data[0:3,:], labels[0:3])[0]\n",
    "error = network.train(input_data[1:4,:], labels[1:4])[0]"
   ]
  },
  {
   "cell_type": "code",
   "execution_count": 5,
   "metadata": {
    "collapsed": false,
    "deletable": true,
    "editable": true
   },
   "outputs": [
    {
     "name": "stdout",
     "output_type": "stream",
     "text": [
      "[ 0.  1.] ---> 0.000602703338421\n",
      "[ 1.  0.] ---> 0.977040336101\n",
      "[ 1.  1.] ---> 0.000942260250766\n",
      "[ 0.  0.] ---> 0.0216789514179\n"
     ]
    }
   ],
   "source": [
    "for data in input_data:\n",
    "    print data, '--->', network.predict(data.reshape(1, -1))[0][0]"
   ]
  },
  {
   "cell_type": "markdown",
   "metadata": {
    "deletable": true,
    "editable": true
   },
   "source": [
    "### ii) Train with random initial weights:"
   ]
  },
  {
   "cell_type": "code",
   "execution_count": 6,
   "metadata": {
    "collapsed": false,
    "deletable": true,
    "editable": true
   },
   "outputs": [
    {
     "name": "stdout",
     "output_type": "stream",
     "text": [
      "Epoch:  0 ...... Training Error:  0.497746545722\n",
      "-----------------------------------------------------------\n",
      "Epoch:  5900 ...... Training Error:  0.0157798427237\n",
      "Error has converged...\n",
      "-----------------------------------------------------------\n"
     ]
    }
   ],
   "source": [
    "# training network..\n",
    "network = NeuralNetwork(zero_weight_init= False)\n",
    "error = network.train(input_data, labels)[0]"
   ]
  },
  {
   "cell_type": "code",
   "execution_count": 7,
   "metadata": {
    "collapsed": false,
    "deletable": true,
    "editable": true
   },
   "outputs": [
    {
     "name": "stdout",
     "output_type": "stream",
     "text": [
      "[ 0.  1.] ---> 0.984952302894\n",
      "[ 1.  0.] ---> 0.984955889349\n",
      "[ 1.  1.] ---> 0.015582321179\n",
      "[ 0.  0.] ---> 0.0174390129989\n"
     ]
    }
   ],
   "source": [
    "# testing the network..\n",
    "for data in input_data:\n",
    "    print data, '--->', network.predict(data.reshape(1, -1))[0][0]"
   ]
  },
  {
   "cell_type": "markdown",
   "metadata": {
    "deletable": true,
    "editable": true
   },
   "source": [
    "### Comparision and Comments on convergence:\n",
    "\n",
    "#### Weights initialized to zero:\n",
    "\n",
    "The weights do not update when all data points are taken as one input matrix. Gradient of the output neuron ends up having 2 positive and 2 negative equal values. This results in 0 weight update between hidden and output layer as the input to the output neuron are all equal. The weights between input and hidden layer also do not update because no  gradient is propogated backwards.\n",
    "\n",
    "Hence, the network is trained with two sets of unbalanced data to cover the input space. However, there is still 1 misclassification probably because the weights are stuck in a local minimum.\n",
    "\n",
    "A total of 6282 epochs is taken for the training process.\n",
    "\n",
    "#### Weights initialized to random values:\n",
    "\n",
    "ith random weight initialization, the error converges in 5900 epochs and all data points are correctly classified.\n",
    "    \n",
    "---"
   ]
  },
  {
   "cell_type": "markdown",
   "metadata": {
    "deletable": true,
    "editable": true
   },
   "source": [
    "## 2.b. Experiment with different learning rates e.g. 0.1, 0.3, 0.5, 0.9:"
   ]
  },
  {
   "cell_type": "code",
   "execution_count": 8,
   "metadata": {
    "collapsed": false,
    "deletable": true,
    "editable": true
   },
   "outputs": [
    {
     "name": "stdout",
     "output_type": "stream",
     "text": [
      "Epoch:  0 ...... Training Error:  0.497746545722\n",
      "-----------------------------------------------------------\n",
      "Epoch:  59007 ...... Training Error:  0.0157807324763\n",
      "Error has converged...\n",
      "-----------------------------------------------------------\n",
      "Epoch:  0 ...... Training Error:  0.497746545722\n",
      "-----------------------------------------------------------\n",
      "Epoch:  19668 ...... Training Error:  0.0157807804052\n",
      "Error has converged...\n",
      "-----------------------------------------------------------\n",
      "Epoch:  0 ...... Training Error:  0.497746545722\n",
      "-----------------------------------------------------------\n",
      "Epoch:  11801 ...... Training Error:  0.0157801938817\n",
      "Error has converged...\n",
      "-----------------------------------------------------------\n",
      "Epoch:  0 ...... Training Error:  0.497746545722\n",
      "-----------------------------------------------------------\n",
      "Epoch:  6556 ...... Training Error:  0.0157794521179\n",
      "Error has converged...\n",
      "-----------------------------------------------------------\n",
      "Errors after convergence: \n",
      "[learning_rate, converged error]\n",
      "[[ 0.1  0.015780732]\n",
      " [ 0.3  0.01578078]\n",
      " [ 0.5  0.015780194]\n",
      " [ 0.9  0.015779452]]\n",
      "-----------------------------------------------------------\n",
      "Epochs taken for convergence: \n",
      "[learning_rate, epochs]\n",
      "[[  1.00000000e-01   5.90070000e+04]\n",
      " [  3.00000000e-01   1.96680000e+04]\n",
      " [  5.00000000e-01   1.18010000e+04]\n",
      " [  9.00000000e-01   6.55600000e+03]]\n"
     ]
    }
   ],
   "source": [
    "learning_rates = [0.1, 0.3, 0.5, 0.9]\n",
    "converged_error = []\n",
    "epochs = []\n",
    "for rate in learning_rates:\n",
    "    network = NeuralNetwork(learning_rate=rate)\n",
    "    result = network.train(input_data, labels)\n",
    "    converged_error.append(result[0])\n",
    "    epochs.append(result[1])\n",
    "\n",
    "print 'Errors after convergence: '\n",
    "print '[learning_rate, converged error]'\n",
    "learn_error = np.array(zip(learning_rates, converged_error))\n",
    "print learn_error\n",
    "print '-----------------------------------------------------------'\n",
    "print 'Epochs taken for convergence: '\n",
    "print '[learning_rate, epochs]'\n",
    "learn_epoch = np.array(zip(learning_rates, epochs))\n",
    "print learn_epoch"
   ]
  },
  {
   "cell_type": "markdown",
   "metadata": {
    "deletable": true,
    "editable": true
   },
   "source": [
    "### Compare the convergence and plot some resulting surfaces:\n",
    "#### Plot:"
   ]
  },
  {
   "cell_type": "code",
   "execution_count": 9,
   "metadata": {
    "collapsed": false,
    "deletable": true,
    "editable": true
   },
   "outputs": [
    {
     "data": {
      "image/png": "[encoded data removed]",
      "text/plain": [
       "<matplotlib.figure.Figure at 0x7f6447e6f490>"
      ]
     },
     "metadata": {},
     "output_type": "display_data"
    }
   ],
   "source": [
    "figure = plt.figure(1)\n",
    "figure.set_figheight(5)\n",
    "figure.set_figwidth(12)\n",
    "\n",
    "figure.add_subplot(1, 2, 1)\n",
    "plt.plot(learn_error[:,0], learn_error[:,1], color = 'g')\n",
    "plt.xlabel('Learning rate')\n",
    "plt.ylabel('Training error')\n",
    "plt.title('Learning rate vs Training error')\n",
    "plt.scatter(learn_error[:,0], learn_error[:,1], color = 'b')\n",
    "\n",
    "figure.add_subplot(1, 2, 2)\n",
    "plt.tight_layout(pad= 4.00)\n",
    "plt.plot(learn_epoch[:,0], learn_epoch[:,1], color = 'g')\n",
    "plt.xlabel('Learning rate')\n",
    "plt.ylabel('Epochs')\n",
    "plt.title('Learning rate vs Epochs')\n",
    "plt.scatter(learn_epoch[:,0], learn_epoch[:,1], color = 'b')\n",
    "\n",
    "plt.show()"
   ]
  },
  {
   "cell_type": "markdown",
   "metadata": {
    "deletable": true,
    "editable": true
   },
   "source": [
    "#### Comparision of convergence:\n",
    "\n",
    "Convergence happens faster with increase in learning rate as can be seen from the plot.\n",
    "\n",
    "---"
   ]
  },
  {
   "cell_type": "markdown",
   "metadata": {
    "collapsed": true,
    "deletable": true,
    "editable": true
   },
   "source": [
    "## Question 3:\n",
    "\n",
    "Investigate the use of back-propagation learning using a sigmoidal nonlinearity to achieve one-to-one mappings, as described here:\n",
    "\n",
    "For each mapping, do the following:\n",
    "\n",
    "1. Set up two sets of data, one for network training, and the other for testing.\n",
    "\n",
    "2. Use the training data set to compute the synaptic weights of the network, assumed to have a single hidden layer.\n",
    "\n",
    "3. Evaluate the computation accuracy of the network by using the test data. Use a single hidden layer but with a variable number of hidden neurons. Investigate how the network performance is affected by varying the size of the hidden layer."
   ]
  },
  {
   "cell_type": "code",
   "execution_count": 10,
   "metadata": {
    "collapsed": true,
    "deletable": true,
    "editable": true
   },
   "outputs": [],
   "source": [
    "## Required functions....\n",
    "\n",
    "def plot_results(hidden_neurons, train_error, test_error, epochs,\n",
    "                 plot_title):\n",
    "    print 'Training error after convergence: '\n",
    "    print '[Hidden neurons, converged training error]'\n",
    "    print np.array(zip(hidden_neurons, train_error))\n",
    "    print '--------------------------------------------------------------------'\n",
    "    print 'Test error: '\n",
    "    print '[Hidden neurons, test error]'\n",
    "    print np.array(zip(hidden_neurons, test_error))\n",
    "    \n",
    "    figure = plt.figure(1)\n",
    "    figure.set_figheight(4)\n",
    "    figure.set_figwidth(10)\n",
    "\n",
    "    figure.add_subplot(1, 2, 1)\n",
    "    plt.plot(hidden_neurons, train_error, color = 'r', label= \"Training error\")\n",
    "    plt.scatter(hidden_neurons, train_error, color = 'c')\n",
    "    plt.plot(hidden_neurons, test_error, color = 'g', label= \"Test error\")\n",
    "    plt.scatter(hidden_neurons, test_error, color = 'm')\n",
    "    plt.xlabel('Number of Hidden Neurons')\n",
    "    plt.ylabel('Error')\n",
    "    plt.title(plot_title+ ': Error Plot')\n",
    "    plt.legend(loc=0)\n",
    "    figure.add_subplot(1, 2, 2)\n",
    "    plt.tight_layout(pad= 4.00)\n",
    "    plt.plot(hidden_neurons, epochs, color = 'b')\n",
    "    plt.scatter(hidden_neurons, epochs, color = 'g')\n",
    "    plt.xlabel('Number of Hidden Neurons')\n",
    "    plt.ylabel('Epochs')\n",
    "    plt.title(plot_title+ ': Epochs Plot')\n",
    "    plt.show()\n",
    "\n",
    "def obtain_performance(x, y, hidden_neurons):\n",
    "    data = np.hstack((x, y))\n",
    "    np.random.seed(0)\n",
    "    # randomly shuffle data..\n",
    "    np.random.shuffle(data)\n",
    "    # split data..80 percent training, 20 percent test..\n",
    "    train_data, test_data = np.vsplit(data, [data.shape[0]*8/10])\n",
    "\n",
    "    train_error = []\n",
    "    test_error = []\n",
    "    epochs = []\n",
    "\n",
    "    for number in hidden_neurons:\n",
    "        # initialize network..\n",
    "        network = NeuralNetwork(num_inputs= 1,\n",
    "                            num_hidden_neurons= number)\n",
    "        # train network..\n",
    "        train_result = network.train(train_data[:,:-1],\n",
    "                                     train_data[:,-1:])\n",
    "        train_error.append(train_result[0])\n",
    "        epochs.append(train_result[1])\n",
    "        # test network..\n",
    "        test_error.append(network.predict(test_data[:,:-1],\n",
    "                                     labels= test_data[:,-1:]))\n",
    "        \n",
    "    return train_error, epochs, test_error"
   ]
  },
  {
   "cell_type": "code",
   "execution_count": 11,
   "metadata": {
    "collapsed": true,
    "deletable": true,
    "editable": true
   },
   "outputs": [],
   "source": [
    "hidden_neurons = [1, 2, 3, 4, 5]"
   ]
  },
  {
   "cell_type": "markdown",
   "metadata": {
    "deletable": true,
    "editable": true
   },
   "source": [
    "### 1) Reciprocal \n",
    "$$F(x) = \\frac{1}{x}; 1<= x <=100$$"
   ]
  },
  {
   "cell_type": "code",
   "execution_count": 12,
   "metadata": {
    "collapsed": false,
    "deletable": true,
    "editable": true
   },
   "outputs": [
    {
     "name": "stdout",
     "output_type": "stream",
     "text": [
      "Epoch:  0 ...... Training Error:  0.7069425571\n",
      "Epoch:  100000 ...... Training Error:  0.0581322330059\n",
      "-----------------------------------------------------------\n",
      "Max epochs reached...\n",
      "-----------------------------------------------------------\n",
      "Epoch:  0 ...... Training Error:  0.764822793151\n",
      "Epoch:  100000 ...... Training Error:  0.0581322376342\n",
      "-----------------------------------------------------------\n",
      "Max epochs reached...\n",
      "-----------------------------------------------------------\n",
      "Epoch:  0 ...... Training Error:  0.878796666167\n",
      "Epoch:  100000 ...... Training Error:  0.0597649783432\n",
      "-----------------------------------------------------------\n",
      "Max epochs reached...\n",
      "-----------------------------------------------------------\n",
      "Epoch:  0 ...... Training Error:  0.904857956396\n",
      "Epoch:  100000 ...... Training Error:  0.00604092963909\n",
      "-----------------------------------------------------------\n",
      "Max epochs reached...\n",
      "-----------------------------------------------------------\n",
      "Epoch:  0 ...... Training Error:  0.894320110192\n",
      "Epoch:  100000 ...... Training Error:  0.0143185355711\n",
      "-----------------------------------------------------------\n",
      "Max epochs reached...\n",
      "-----------------------------------------------------------\n",
      "Training error after convergence: \n",
      "[Hidden neurons, converged training error]\n",
      "[[ 1.0  0.058132233]\n",
      " [ 2.0  0.058132238]\n",
      " [ 3.0  0.059764978]\n",
      " [ 4.0  0.0049400399]\n",
      " [ 5.0  0.013365241]]\n",
      "--------------------------------------------------------------------\n",
      "Test error: \n",
      "[Hidden neurons, test error]\n",
      "[[ 1.0  0.026839924]\n",
      " [ 2.0  0.026839928]\n",
      " [ 3.0  0.037356482]\n",
      " [ 4.0  0.0053798997]\n",
      " [ 5.0  0.01096667]]\n"
     ]
    },
    {
     "data": {
      "image/png": "[encoded data removed]",
      "text/plain": [
       "<matplotlib.figure.Figure at 0x7f6445b114d0>"
      ]
     },
     "metadata": {},
     "output_type": "display_data"
    }
   ],
   "source": [
    "# generating x...\n",
    "reciprocal_x = np.arange(1, 101, dtype= np.float32).reshape(-1, 1)\n",
    "# generating y...\n",
    "reciprocal_y = 1/reciprocal_x\n",
    "# applying data to neural network..\n",
    "train_error_r, epochs_r, test_error_r = obtain_performance(\n",
    "    reciprocal_x, reciprocal_y, hidden_neurons)\n",
    "plot_results(hidden_neurons, train_error_r, test_error_r, \n",
    "             epochs_r, 'Reciprocal' )"
   ]
  },
  {
   "cell_type": "markdown",
   "metadata": {
    "collapsed": true,
    "deletable": true,
    "editable": true
   },
   "source": [
    "### 2) Log_10\n",
    "$$F(x) = log_{10}x; 1<= x <=10$$"
   ]
  },
  {
   "cell_type": "code",
   "execution_count": 13,
   "metadata": {
    "collapsed": false,
    "deletable": true,
    "editable": true
   },
   "outputs": [
    {
     "name": "stdout",
     "output_type": "stream",
     "text": [
      "Epoch:  0 ...... Training Error:  0.200062313963\n",
      "Epoch:  100000 ...... Training Error:  0.0474856172589\n",
      "-----------------------------------------------------------\n",
      "Max epochs reached...\n",
      "-----------------------------------------------------------\n",
      "Epoch:  0 ...... Training Error:  0.196812471553\n",
      "-----------------------------------------------------------\n",
      "Epoch:  3513 ...... Training Error:  0.00687976275904\n",
      "Error has converged...\n",
      "-----------------------------------------------------------\n",
      "Epoch:  0 ...... Training Error:  0.22629788463\n",
      "-----------------------------------------------------------\n",
      "Epoch:  4088 ...... Training Error:  0.00735976177875\n",
      "Error has converged...\n",
      "-----------------------------------------------------------\n",
      "Epoch:  0 ...... Training Error:  0.245094380387\n",
      "-----------------------------------------------------------\n",
      "Epoch:  5168 ...... Training Error:  0.0071147374653\n",
      "Error has converged...\n",
      "-----------------------------------------------------------\n",
      "Epoch:  0 ...... Training Error:  0.237746709318\n",
      "-----------------------------------------------------------\n",
      "Epoch:  7408 ...... Training Error:  0.00820276154015\n",
      "Error has converged...\n",
      "-----------------------------------------------------------\n",
      "Training error after convergence: \n",
      "[Hidden neurons, converged training error]\n",
      "[[ 1.0  0.044427137]\n",
      " [ 2.0  0.0068797628]\n",
      " [ 3.0  0.0073597618]\n",
      " [ 4.0  0.0071147375]\n",
      " [ 5.0  0.0082027615]]\n",
      "--------------------------------------------------------------------\n",
      "Test error: \n",
      "[Hidden neurons, test error]\n",
      "[[ 1.0  0.20882109]\n",
      " [ 2.0  0.088109985]\n",
      " [ 3.0  0.093555398]\n",
      " [ 4.0  0.087802799]\n",
      " [ 5.0  0.090413421]]\n"
     ]
    },
    {
     "data": {
      "image/png": "[encoded data removed]",
      "text/plain": [
       "<matplotlib.figure.Figure at 0x7f64458d8510>"
      ]
     },
     "metadata": {},
     "output_type": "display_data"
    }
   ],
   "source": [
    "log_x = np.arange(1, 11, dtype= np.float32).reshape(-1, 1)\n",
    "log_y = np.log10(log_x)\n",
    "train_error_l, epochs_l, test_error_l = obtain_performance(\n",
    "    log_x, log_y, hidden_neurons)\n",
    "plot_results(hidden_neurons, train_error_l, test_error_l, \n",
    "             epochs_l, 'Log_10')"
   ]
  },
  {
   "cell_type": "markdown",
   "metadata": {
    "deletable": true,
    "editable": true
   },
   "source": [
    "### 3) Exponential \n",
    "$$F(x) = exp(-x); 1<= x <=10$$"
   ]
  },
  {
   "cell_type": "code",
   "execution_count": 14,
   "metadata": {
    "collapsed": false,
    "deletable": true,
    "editable": true
   },
   "outputs": [
    {
     "name": "stdout",
     "output_type": "stream",
     "text": [
      "Epoch:  0 ...... Training Error:  0.729610561643\n",
      "-----------------------------------------------------------\n",
      "Epoch:  2530 ...... Training Error:  0.0110373557242\n",
      "Error has converged...\n",
      "-----------------------------------------------------------\n",
      "Epoch:  0 ...... Training Error:  0.785317682649\n",
      "-----------------------------------------------------------\n",
      "Epoch:  2698 ...... Training Error:  0.0108970805397\n",
      "Error has converged...\n",
      "-----------------------------------------------------------\n",
      "Epoch:  0 ...... Training Error:  0.901437580515\n",
      "-----------------------------------------------------------\n",
      "Epoch:  2890 ...... Training Error:  0.0108600158265\n",
      "Error has converged...\n",
      "-----------------------------------------------------------\n",
      "Epoch:  0 ...... Training Error:  0.931818466253\n",
      "-----------------------------------------------------------\n",
      "Epoch:  2830 ...... Training Error:  0.0107707955901\n",
      "Error has converged...\n",
      "-----------------------------------------------------------\n",
      "Epoch:  0 ...... Training Error:  0.920938644599\n",
      "-----------------------------------------------------------\n",
      "Epoch:  2745 ...... Training Error:  0.0108308850178\n",
      "Error has converged...\n",
      "-----------------------------------------------------------\n",
      "Training error after convergence: \n",
      "[Hidden neurons, converged training error]\n",
      "[[ 1.0  0.011037356]\n",
      " [ 2.0  0.010897081]\n",
      " [ 3.0  0.010860016]\n",
      " [ 4.0  0.010770796]\n",
      " [ 5.0  0.010830885]]\n",
      "--------------------------------------------------------------------\n",
      "Test error: \n",
      "[Hidden neurons, test error]\n",
      "[[ 1.0  0.090932322]\n",
      " [ 2.0  0.082628156]\n",
      " [ 3.0  0.082281091]\n",
      " [ 4.0  0.078084562]\n",
      " [ 5.0  0.078470344]]\n"
     ]
    },
    {
     "data": {
      "image/png": "[encoded data removed]",
      "text/plain": [
       "<matplotlib.figure.Figure at 0x7f6445695150>"
      ]
     },
     "metadata": {},
     "output_type": "display_data"
    }
   ],
   "source": [
    "exp_x = np.arange(1, 11, dtype= np.float32).reshape(-1, 1)\n",
    "exp_y = np.exp(-exp_x)\n",
    "train_error_e, epochs_e, test_error_e = obtain_performance(\n",
    "    exp_x, exp_y, hidden_neurons)\n",
    "plot_results(hidden_neurons, train_error_e, test_error_e, \n",
    "             epochs_e, 'Exponential')"
   ]
  },
  {
   "cell_type": "markdown",
   "metadata": {
    "deletable": true,
    "editable": true
   },
   "source": [
    "### 4) Sinusoid \n",
    "$$F(x) = sin(x); 0<= x <=\\frac{\\pi}{2}$$"
   ]
  },
  {
   "cell_type": "code",
   "execution_count": 15,
   "metadata": {
    "collapsed": false,
    "deletable": true,
    "editable": true
   },
   "outputs": [
    {
     "name": "stdout",
     "output_type": "stream",
     "text": [
      "Epoch:  0 ...... Training Error:  0.249409410518\n",
      "Epoch:  100000 ...... Training Error:  0.0671843050992\n",
      "-----------------------------------------------------------\n",
      "Max epochs reached...\n",
      "-----------------------------------------------------------\n",
      "Epoch:  0 ...... Training Error:  0.251353417207\n",
      "Epoch:  100000 ...... Training Error:  0.0428746642237\n",
      "-----------------------------------------------------------\n",
      "Max epochs reached...\n",
      "-----------------------------------------------------------\n",
      "Epoch:  0 ...... Training Error:  0.28853769008\n",
      "Epoch:  100000 ...... Training Error:  0.0398713907209\n",
      "-----------------------------------------------------------\n",
      "Max epochs reached...\n",
      "-----------------------------------------------------------\n",
      "Epoch:  0 ...... Training Error:  0.315798107827\n",
      "-----------------------------------------------------------\n",
      "Epoch:  10224 ...... Training Error:  0.00313637331745\n",
      "Error has converged...\n",
      "-----------------------------------------------------------\n",
      "Epoch:  0 ...... Training Error:  0.305679284776\n",
      "-----------------------------------------------------------\n",
      "Epoch:  9234 ...... Training Error:  0.00331731551976\n",
      "Error has converged...\n",
      "-----------------------------------------------------------\n",
      "Training error after convergence: \n",
      "[Hidden neurons, converged training error]\n",
      "[[ 1.0  0.073930349]\n",
      " [ 2.0  0.045755735]\n",
      " [ 3.0  0.043223999]\n",
      " [ 4.0  0.0031363733]\n",
      " [ 5.0  0.0033173155]]\n",
      "--------------------------------------------------------------------\n",
      "Test error: \n",
      "[Hidden neurons, test error]\n",
      "[[ 1.0  0.082652968]\n",
      " [ 2.0  0.033600763]\n",
      " [ 3.0  0.033146461]\n",
      " [ 4.0  0.0069365859]\n",
      " [ 5.0  0.0069526549]]\n"
     ]
    },
    {
     "data": {
      "image/png": "[encoded data removed]",
      "text/plain": [
       "<matplotlib.figure.Figure at 0x7f644531f890>"
      ]
     },
     "metadata": {},
     "output_type": "display_data"
    }
   ],
   "source": [
    "sin_x = np.linspace(0, np.pi/2, dtype= np.float32).reshape(-1, 1)\n",
    "sin_y = np.sin(sin_x)\n",
    "train_error_s, epochs_s, test_error_s = obtain_performance(\n",
    "    sin_x, sin_y, hidden_neurons)\n",
    "plot_results(hidden_neurons, train_error_s, test_error_s,\n",
    "             epochs_s, 'Sinusoid')"
   ]
  },
  {
   "cell_type": "markdown",
   "metadata": {
    "deletable": true,
    "editable": true
   },
   "source": [
    "---"
   ]
  }
 ],
 "metadata": {
  "kernelspec": {
   "display_name": "Python 2",
   "language": "python",
   "name": "python2"
  },
  "language_info": {
   "codemirror_mode": {
    "name": "ipython",
    "version": 2
   },
   "file_extension": ".py",
   "mimetype": "text/x-python",
   "name": "python",
   "nbconvert_exporter": "python",
   "pygments_lexer": "ipython2",
   "version": "2.7.13"
  }
 },
 "nbformat": 4,
 "nbformat_minor": 2
}
