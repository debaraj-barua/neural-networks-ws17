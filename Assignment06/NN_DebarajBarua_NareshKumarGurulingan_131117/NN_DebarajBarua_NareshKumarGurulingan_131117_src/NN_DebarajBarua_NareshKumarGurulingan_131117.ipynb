{
 "cells": [
  {
   "cell_type": "code",
   "execution_count": 2,
   "metadata": {
    "collapsed": false
   },
   "outputs": [],
   "source": [
    "import numpy as np\n",
    "import matplotlib.pyplot as plt\n",
    "import sympy as sp\n",
    "import IPython"
   ]
  },
  {
   "cell_type": "markdown",
   "metadata": {},
   "source": [
    "---\n",
    "## Question 1:\n",
    "\n",
    "Read chapter 4 from Haykin’s book (2nd edition), starting from section 4.1 to 4.6(including 4.6). Summarize or sketch your insights in mind-map or an outline or a summary."
   ]
  },
  {
   "cell_type": "code",
   "execution_count": null,
   "metadata": {
    "collapsed": true
   },
   "outputs": [],
   "source": []
  },
  {
   "cell_type": "markdown",
   "metadata": {},
   "source": [
    "---\n",
    "## Question 2:\n",
    "\n",
    "For this task you have to program the back-propogation (BP) for multi layered perceptron (MLP). Design your implementation for general NN with arbitrary many hidden layers. The test case is as follows:  2-2-1 multi layered perceptron (MLP) with sigmoid activation function on XOR data."
   ]
  },
  {
   "cell_type": "code",
   "execution_count": 180,
   "metadata": {
    "collapsed": false
   },
   "outputs": [],
   "source": [
    "class NeuralNetwork():\n",
    "    \"\"\"\n",
    "    3 layer neural network with 1 input layer, 1 hidden layer, \n",
    "    1 output layer...\n",
    "    2-2-1 Neural Network..\n",
    "    \"\"\"\n",
    "    def __init__(self, num_hidden_neurons = 2, learning_rate = 1, epochs = 10000,\n",
    "                 num_inputs = 2, zero_weight_init = False, epsilon= 1e-2):\n",
    "        # Layer 0 --> input, Layer 1 --> hidden, Layer 2 --> output\n",
    "        if zero_weight_init == False:\n",
    "            np.random.seed(0)\n",
    "            # weights randomly initialized...\n",
    "            self.w_layer01 = np.random.rand(num_inputs, num_hidden_neurons)\n",
    "            self.w_layer12 = np.random.rand(num_hidden_neurons, 1)\n",
    "        else:\n",
    "            # weights initialized to zero...\n",
    "            self.w_layer01 = np.zeros((num_inputs, num_hidden_neurons))\n",
    "            self.w_layer12 = np.zeros((num_hidden_neurons, 1))\n",
    "            \n",
    "        self.num_hidden_neurons = num_hidden_neurons\n",
    "        self.learning_rate = learning_rate\n",
    "        self.epsilon = epsilon\n",
    "        self.epochs = epochs\n",
    "        \n",
    "    def non_linearity(self, value, derivative = False):\n",
    "        if derivative == True: # return slope of sigmoid..\n",
    "            return value*(1. - value)\n",
    "        # included to avoid overflow in numpy exponent..\n",
    "        value = np.array(value, dtype = np.float128)\n",
    "        value = np.clip( value, -500, 500 )\n",
    "        # return sigmoid activation value...\n",
    "        return 1./(1. + np.exp(-value)) \n",
    "        \n",
    "    def train(self, input_array, output_array):\n",
    "        iteration = 0\n",
    "        while(True):\n",
    "            layer0 = input_array\n",
    "            layer1_local_field = input_array.dot(self.w_layer01)\n",
    "            layer1_output = self.non_linearity(layer1_local_field)\n",
    "            \n",
    "            layer2_local_field = layer1_output.dot(self.w_layer12)\n",
    "            layer2_output = self.non_linearity(layer2_local_field)\n",
    "        \n",
    "            layer2_error = -(output_array - layer2_output)\n",
    "            layer2_delta = layer2_error * self.non_linearity(\n",
    "                layer2_error, derivative = True)\n",
    "        \n",
    "            layer1_error = layer2_delta.dot(self.w_layer12.T)\n",
    "            layer1_delta = layer1_error * self.non_linearity(\n",
    "                layer1_error, derivative = True)\n",
    "            \n",
    "            # update weights based on error and slope of sigmoid...\n",
    "            self.w_layer12 -= self.learning_rate * (\n",
    "                layer1_output.T.dot(layer2_delta))\n",
    "            self.w_layer01 -= self.learning_rate * (\n",
    "                layer0.T.dot(layer1_delta))\n",
    "            \n",
    "            training_error = np.mean(np.abs(layer2_error))\n",
    "            \n",
    "            if iteration % 1000 == 0:\n",
    "                print 'Epoch: ', iteration, '......', 'Training Error: ', (\n",
    "                    training_error)\n",
    "            \n",
    "            if iteration > self.epochs or training_error < self.epsilon:\n",
    "                break\n",
    "                \n",
    "            iteration += 1\n",
    "                \n",
    "        # training error at the end of epochs is returned...\n",
    "        print '-----------------------------------------------------------'\n",
    "        if iteration > self.epochs:\n",
    "            print 'Max epochs reached...'\n",
    "        else:\n",
    "            print 'Epoch: ', iteration, '......', 'Training Error: ', (\n",
    "                    training_error)\n",
    "            print 'Error has converged...'\n",
    "        print '-----------------------------------------------------------'\n",
    "        return training_error\n",
    "                \n",
    "    def predict(self, input_array, desired_array):\n",
    "        layer0 = input_array\n",
    "        layer1_local_field = input_array.dot(self.w_layer01)\n",
    "        layer1_output = self.non_linearity(layer1_local_field)\n",
    "        \n",
    "        layer2_local_field = layer1_output.dot(self.w_layer12)\n",
    "        layer2_output = self.non_linearity(layer2_local_field)\n",
    "        \n",
    "        layer2_error = layer2_output - desired_array\n",
    "        \n",
    "        # average generalization error is returned..\n",
    "        return np.mean(np.abs(layer2_error))"
   ]
  },
  {
   "cell_type": "code",
   "execution_count": 181,
   "metadata": {
    "collapsed": false
   },
   "outputs": [
    {
     "name": "stdout",
     "output_type": "stream",
     "text": [
      "(4, 2)\n",
      "(4, 1)\n"
     ]
    }
   ],
   "source": [
    "# XOR..\n",
    "input_data = np.array([[0, 0], [0, 1], [1, 0], [1, 1]])\n",
    "labels = np.array([0, 0.01, 0.01, 0]).reshape(-1, 1)\n",
    "\n",
    "print input_data.shape\n",
    "print labels.shape"
   ]
  },
  {
   "cell_type": "markdown",
   "metadata": {},
   "source": [
    "## 2) a) Experiments with initial weights\n",
    "\n",
    "### i) Train the network with zero initial weights i.e. $w_{ij} = 0$."
   ]
  },
  {
   "cell_type": "code",
   "execution_count": 182,
   "metadata": {
    "collapsed": false
   },
   "outputs": [
    {
     "name": "stdout",
     "output_type": "stream",
     "text": [
      "Epoch:  0 ...... Training Error:  0.495\n",
      "Epoch:  1000 ...... Training Error:  0.0165656859284\n",
      "Epoch:  2000 ...... Training Error:  0.0107385823234\n",
      "-----------------------------------------------------------\n",
      "Epoch:  2224 ...... Training Error:  0.00999815399291\n",
      "Error has converged...\n",
      "-----------------------------------------------------------\n"
     ]
    }
   ],
   "source": [
    "network = NeuralNetwork(zero_weight_init= True, epsilon= 1e-2)\n",
    "error = network.train(input_data, labels)"
   ]
  },
  {
   "cell_type": "markdown",
   "metadata": {},
   "source": [
    "## ii) Train with random initial weights:"
   ]
  },
  {
   "cell_type": "code",
   "execution_count": 183,
   "metadata": {
    "collapsed": false
   },
   "outputs": [
    {
     "name": "stdout",
     "output_type": "stream",
     "text": [
      "Epoch:  0 ...... Training Error:  0.659731235149\n",
      "-----------------------------------------------------------\n",
      "Epoch:  944 ...... Training Error:  0.00999384933498\n",
      "Error has converged...\n",
      "-----------------------------------------------------------\n"
     ]
    }
   ],
   "source": [
    "network = NeuralNetwork(zero_weight_init= False, epsilon= 1e-2)\n",
    "error = network.train(input_data, labels)"
   ]
  },
  {
   "cell_type": "markdown",
   "metadata": {},
   "source": [
    "## Comparision and Comments on convergence:\n",
    "\n",
    "---"
   ]
  },
  {
   "cell_type": "markdown",
   "metadata": {},
   "source": [
    "## b. Experiment with different learning rates e.g. 0.1, 0.3, 0.5, 0.9:"
   ]
  },
  {
   "cell_type": "code",
   "execution_count": 184,
   "metadata": {
    "collapsed": false
   },
   "outputs": [
    {
     "name": "stdout",
     "output_type": "stream",
     "text": [
      "Epoch:  0 ...... Training Error:  0.659731235149\n",
      "Epoch:  1000 ...... Training Error:  0.0425660236693\n",
      "Epoch:  2000 ...... Training Error:  0.0280664773992\n",
      "Epoch:  3000 ...... Training Error:  0.0218484476218\n",
      "Epoch:  4000 ...... Training Error:  0.0181890722302\n",
      "Epoch:  5000 ...... Training Error:  0.0157060336288\n",
      "Epoch:  6000 ...... Training Error:  0.0138769812662\n",
      "Epoch:  7000 ...... Training Error:  0.012455364509\n",
      "Epoch:  8000 ...... Training Error:  0.0113077410483\n",
      "Epoch:  9000 ...... Training Error:  0.0103547949924\n",
      "-----------------------------------------------------------\n",
      "Epoch:  9420 ...... Training Error:  0.00999979785709\n",
      "Error has converged...\n",
      "-----------------------------------------------------------\n",
      "Epoch:  0 ...... Training Error:  0.659731235149\n",
      "Epoch:  1000 ...... Training Error:  0.0218313086386\n",
      "Epoch:  2000 ...... Training Error:  0.0138739778705\n",
      "Epoch:  3000 ...... Training Error:  0.0103554773816\n",
      "-----------------------------------------------------------\n",
      "Epoch:  3141 ...... Training Error:  0.00999832550986\n",
      "Error has converged...\n",
      "-----------------------------------------------------------\n",
      "Epoch:  0 ...... Training Error:  0.659731235149\n",
      "Epoch:  1000 ...... Training Error:  0.0156958393345\n",
      "-----------------------------------------------------------\n",
      "Epoch:  1885 ...... Training Error:  0.00999841853813\n",
      "Error has converged...\n",
      "-----------------------------------------------------------\n",
      "Epoch:  0 ...... Training Error:  0.659731235149\n",
      "Epoch:  1000 ...... Training Error:  0.0103620460564\n",
      "-----------------------------------------------------------\n",
      "Epoch:  1048 ...... Training Error:  0.00999843701524\n",
      "Error has converged...\n",
      "-----------------------------------------------------------\n",
      "Errors after convergence [learning_rate, converged error]\n",
      "[[ 0.1  0.0099997979]\n",
      " [ 0.3  0.0099983255]\n",
      " [ 0.5  0.0099984185]\n",
      " [ 0.9  0.009998437]]\n"
     ]
    }
   ],
   "source": [
    "learning_rates = [0.1, 0.3, 0.5, 0.9]\n",
    "converged_error = list()\n",
    "for rate in learning_rates:\n",
    "    network = NeuralNetwork(learning_rate=rate)\n",
    "    converged_error.append(network.train(input_data, labels))\n",
    "\n",
    "print 'Errors after convergence [learning_rate, converged error]'\n",
    "result = np.array(zip(learning_rates, converged_error))\n",
    "print result"
   ]
  },
  {
   "cell_type": "markdown",
   "metadata": {},
   "source": [
    "## Compare the convergence and plot some resulting surfaces:\n",
    "\n",
    "## Plot:"
   ]
  },
  {
   "cell_type": "code",
   "execution_count": 185,
   "metadata": {
    "collapsed": false
   },
   "outputs": [
    {
     "data": {
      "image/png": "[encoded data removed]",
      "text/plain": [
       "<matplotlib.figure.Figure at 0x7f5cf481d990>"
      ]
     },
     "metadata": {},
     "output_type": "display_data"
    }
   ],
   "source": [
    "plt.plot(result[:,0], result[:,1], color = 'g')\n",
    "plt.xlabel('Learning rate')\n",
    "plt.ylabel('Training error')\n",
    "plt.title('Learning rate vs Training error')\n",
    "plt.scatter(result[:,0], result[:,1], color = 'b')\n",
    "plt.show()"
   ]
  },
  {
   "cell_type": "markdown",
   "metadata": {},
   "source": [
    "## Comparision of convergence:\n",
    "\n",
    "---"
   ]
  },
  {
   "cell_type": "markdown",
   "metadata": {
    "collapsed": true
   },
   "source": [
    "## Question 3:\n",
    "\n",
    "Investigate the use of back-propagation learning using a sigmoidal nonlinearity to achieve one-to-one mappings, as described here:\n",
    "\n",
    "For each mapping, do the following:\n",
    "\n",
    "1. Set up two sets of data, one for network training, and the other for testing.\n",
    "\n",
    "2. Use the training data set to compute the synaptic weights of the network, assumed to have a single hidden layer.\n",
    "\n",
    "3. Evaluate the computation accuracy of the network by using the test data. Use a single hidden layer but with a variable number of hidden neurons. Investigate how the network performance is affected by varying the size of the hidden layer."
   ]
  },
  {
   "cell_type": "markdown",
   "metadata": {},
   "source": [
    "1) $$F(x) = \\frac{1}{x}; 1<= x <=100$$"
   ]
  },
  {
   "cell_type": "code",
   "execution_count": 186,
   "metadata": {
    "collapsed": false
   },
   "outputs": [],
   "source": [
    "def split_data(x, y):\n",
    "    data = np.hstack((x, y))\n",
    "    np.random.seed(0)\n",
    "    np.random.shuffle(data)\n",
    "    return np.vsplit(data, [data.shape[0]*8/10])"
   ]
  },
  {
   "cell_type": "code",
   "execution_count": 187,
   "metadata": {
    "collapsed": false
   },
   "outputs": [],
   "source": [
    "reciprocal_x = np.arange(1, 101, dtype= np.float32).reshape(-1, 1)\n",
    "reciprocal_y = 1/reciprocal_x\n",
    "train_data_r, test_data_r = split_data(reciprocal_x, reciprocal_y)"
   ]
  },
  {
   "cell_type": "code",
   "execution_count": 189,
   "metadata": {
    "collapsed": false
   },
   "outputs": [
    {
     "name": "stdout",
     "output_type": "stream",
     "text": [
      "Epoch:  0 ...... Training Error:  0.621064923263\n",
      "Epoch:  1000 ...... Training Error:  0.45436776235\n",
      "Epoch:  2000 ...... Training Error:  0.45436776235\n",
      "Epoch:  3000 ...... Training Error:  0.45436776235\n",
      "Epoch:  4000 ...... Training Error:  0.45436776235\n",
      "Epoch:  5000 ...... Training Error:  0.45436776235\n",
      "Epoch:  6000 ...... Training Error:  0.45436776235\n",
      "Epoch:  7000 ...... Training Error:  0.45436776235\n",
      "Epoch:  8000 ...... Training Error:  0.45436776235\n",
      "Epoch:  9000 ...... Training Error:  0.45436776235\n",
      "Epoch:  10000 ...... Training Error:  0.45436776235\n",
      "-----------------------------------------------------------\n",
      "Max epochs reached...\n",
      "-----------------------------------------------------------\n",
      "Epoch:  0 ...... Training Error:  0.706512351766\n",
      "Epoch:  1000 ...... Training Error:  0.45436776235\n",
      "Epoch:  2000 ...... Training Error:  0.45436776235\n",
      "Epoch:  3000 ...... Training Error:  0.45436776235\n",
      "Epoch:  4000 ...... Training Error:  0.45436776235\n",
      "Epoch:  5000 ...... Training Error:  0.45436776235\n",
      "Epoch:  6000 ...... Training Error:  0.45436776235\n",
      "Epoch:  7000 ...... Training Error:  0.45436776235\n",
      "Epoch:  8000 ...... Training Error:  0.45436776235\n",
      "Epoch:  9000 ...... Training Error:  0.45436776235\n",
      "Epoch:  10000 ...... Training Error:  0.45436776235\n",
      "-----------------------------------------------------------\n",
      "Max epochs reached...\n",
      "-----------------------------------------------------------\n",
      "Epoch:  0 ...... Training Error:  0.779557187076\n",
      "Epoch:  1000 ...... Training Error:  0.45436776235\n",
      "Epoch:  2000 ...... Training Error:  0.45436776235\n",
      "Epoch:  3000 ...... Training Error:  0.45436776235\n",
      "Epoch:  4000 ...... Training Error:  0.45436776235\n",
      "Epoch:  5000 ...... Training Error:  0.45436776235\n",
      "Epoch:  6000 ...... Training Error:  0.45436776235\n",
      "Epoch:  7000 ...... Training Error:  0.45436776235\n",
      "Epoch:  8000 ...... Training Error:  0.45436776235\n",
      "Epoch:  9000 ...... Training Error:  0.45436776235\n",
      "Epoch:  10000 ...... Training Error:  0.45436776235\n",
      "-----------------------------------------------------------\n",
      "Max epochs reached...\n",
      "-----------------------------------------------------------\n",
      "Epoch:  0 ...... Training Error:  0.86031985278\n",
      "Epoch:  1000 ...... Training Error:  0.45436776235\n",
      "Epoch:  2000 ...... Training Error:  0.45436776235\n",
      "Epoch:  3000 ...... Training Error:  0.45436776235\n",
      "Epoch:  4000 ...... Training Error:  0.45436776235\n",
      "Epoch:  5000 ...... Training Error:  0.45436776235\n",
      "Epoch:  6000 ...... Training Error:  0.45436776235\n",
      "Epoch:  7000 ...... Training Error:  0.45436776235\n",
      "Epoch:  8000 ...... Training Error:  0.45436776235\n",
      "Epoch:  9000 ...... Training Error:  0.45436776235\n",
      "Epoch:  10000 ...... Training Error:  0.45436776235\n",
      "-----------------------------------------------------------\n",
      "Max epochs reached...\n",
      "-----------------------------------------------------------\n",
      "Epoch:  0 ...... Training Error:  0.907687299306\n",
      "Epoch:  1000 ...... Training Error:  0.45436776235\n",
      "Epoch:  2000 ...... Training Error:  0.45436776235\n",
      "Epoch:  3000 ...... Training Error:  0.45436776235\n",
      "Epoch:  4000 ...... Training Error:  0.45436776235\n",
      "Epoch:  5000 ...... Training Error:  0.45436776235\n",
      "Epoch:  6000 ...... Training Error:  0.45436776235\n",
      "Epoch:  7000 ...... Training Error:  0.45436776235\n",
      "Epoch:  8000 ...... Training Error:  0.45436776235\n",
      "Epoch:  9000 ...... Training Error:  0.45436776235\n",
      "Epoch:  10000 ...... Training Error:  0.45436776235\n",
      "-----------------------------------------------------------\n",
      "Max epochs reached...\n",
      "-----------------------------------------------------------\n"
     ]
    }
   ],
   "source": [
    "hidden_neurons = [1, 2, 3, 4, 5]\n",
    "train_error = []\n",
    "test_error = []\n",
    "\n",
    "for number in hidden_neurons:\n",
    "    network = NeuralNetwork(num_inputs= 1,\n",
    "                            num_hidden_neurons= number)\n",
    "    train_error.append(network.train(train_data_r[:,:-1],\n",
    "                                     train_data_r[:,-1:]))\n",
    "    test_error.append(network.predict(test_data_r[:,:-1],\n",
    "                                     test_data_r[:,-1:]))"
   ]
  },
  {
   "cell_type": "code",
   "execution_count": null,
   "metadata": {
    "collapsed": true
   },
   "outputs": [],
   "source": []
  }
 ],
 "metadata": {
  "kernelspec": {
   "display_name": "Python 2",
   "language": "python",
   "name": "python2"
  },
  "language_info": {
   "codemirror_mode": {
    "name": "ipython",
    "version": 2
   },
   "file_extension": ".py",
   "mimetype": "text/x-python",
   "name": "python",
   "nbconvert_exporter": "python",
   "pygments_lexer": "ipython2",
   "version": "2.7.13"
  }
 },
 "nbformat": 4,
 "nbformat_minor": 2
}
