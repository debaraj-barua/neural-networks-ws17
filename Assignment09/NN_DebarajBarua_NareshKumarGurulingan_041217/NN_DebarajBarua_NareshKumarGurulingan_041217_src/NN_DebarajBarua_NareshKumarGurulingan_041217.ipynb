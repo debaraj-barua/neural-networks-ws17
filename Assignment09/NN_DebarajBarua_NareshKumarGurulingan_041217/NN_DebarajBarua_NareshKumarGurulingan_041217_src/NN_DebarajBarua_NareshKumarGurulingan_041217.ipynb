{
 "cells": [
  {
   "cell_type": "markdown",
   "metadata": {},
   "source": [
    "# Hochschule Bonn-Rhein-Sieg\n",
    "\n",
    "# Neural Networks, WS17/18\n",
    "\n",
    "# Assignment 09 (04-December-2017)\n",
    "\n",
    "##  Debaraj Barua, Naresh Kumar Gurulingan"
   ]
  },
  {
   "cell_type": "code",
   "execution_count": 1,
   "metadata": {
    "collapsed": true
   },
   "outputs": [],
   "source": [
    "import numpy as np"
   ]
  },
  {
   "cell_type": "markdown",
   "metadata": {},
   "source": [
    "## Question 1:\n",
    "\n",
    "Mindmap of chapter 9:"
   ]
  },
  {
   "cell_type": "code",
   "execution_count": null,
   "metadata": {
    "collapsed": true
   },
   "outputs": [],
   "source": []
  },
  {
   "cell_type": "markdown",
   "metadata": {},
   "source": [
    "---\n",
    "## Question 2:\n",
    "\n",
    "2) Show that in the SOM algorithm the winner neuron for an input x is that neuron k whose weight vector w_k maximizes the inner product < w_k,x > of x and wk, take x and wk as normalized."
   ]
  },
  {
   "cell_type": "code",
   "execution_count": null,
   "metadata": {
    "collapsed": true
   },
   "outputs": [],
   "source": []
  },
  {
   "cell_type": "markdown",
   "metadata": {},
   "source": [
    "---\n",
    "## Question 3:\n",
    "\n",
    "3) Consider the one dimensional input space S={0.1, 0.2, 0.4, 0.5}. Cluster S using a one dimensional SOM network with:\n",
    "\n",
    "– 2 nodes.\n",
    "\n",
    "– learning rate equal to 0.1.\n",
    "\n",
    "– Neighborhood function which is equal to 1 for the winner neuron and is 0 otherwise.\n",
    "\n",
    "– two Weight initializations:\n",
    "\n",
    "-- w1=0.15, w2=0.45\n",
    "\n",
    "-- w1=0.3, w2=0.9\n",
    "\n",
    "– Stopping criterion: (see PDF)\n",
    "\n",
    "Comment on the two clusterings you obtained using the two different weight initializations."
   ]
  },
  {
   "cell_type": "code",
   "execution_count": null,
   "metadata": {
    "collapsed": true
   },
   "outputs": [],
   "source": []
  },
  {
   "cell_type": "markdown",
   "metadata": {},
   "source": [
    "---\n",
    "## Question 4:\n",
    "\n",
    "4) Implement a SOM to solve the traveling salesman problem (TSP)"
   ]
  },
  {
   "cell_type": "code",
   "execution_count": null,
   "metadata": {
    "collapsed": true
   },
   "outputs": [],
   "source": []
  }
 ],
 "metadata": {
  "kernelspec": {
   "display_name": "Python 2",
   "language": "python",
   "name": "python2"
  },
  "language_info": {
   "codemirror_mode": {
    "name": "ipython",
    "version": 2
   },
   "file_extension": ".py",
   "mimetype": "text/x-python",
   "name": "python",
   "nbconvert_exporter": "python",
   "pygments_lexer": "ipython2",
   "version": "2.7.13"
  }
 },
 "nbformat": 4,
 "nbformat_minor": 2
}
