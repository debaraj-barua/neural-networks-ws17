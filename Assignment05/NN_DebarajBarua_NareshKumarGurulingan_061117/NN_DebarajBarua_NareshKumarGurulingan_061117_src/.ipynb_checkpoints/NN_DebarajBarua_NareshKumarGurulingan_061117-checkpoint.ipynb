{
 "cells": [
  {
   "cell_type": "markdown",
   "metadata": {
    "deletable": true,
    "editable": true
   },
   "source": [
    "# Hochschule Bonn-Rhein-Sieg\n",
    "\n",
    "# Neural Networks, WS17/18\n",
    "\n",
    "# Assignment 05 (06-november-2017)\n",
    "\n",
    "##  Debaraj Barua, Naresh Kumar Gurulingan"
   ]
  },
  {
   "cell_type": "code",
   "execution_count": 1,
   "metadata": {
    "collapsed": false,
    "deletable": true,
    "editable": true
   },
   "outputs": [],
   "source": [
    "import numpy as np\n",
    "import matplotlib.pyplot as plt\n",
    "import sympy as sp\n",
    "import IPython\n",
    "sp.init_printing()"
   ]
  },
  {
   "cell_type": "markdown",
   "metadata": {
    "deletable": true,
    "editable": true
   },
   "source": [
    "---\n",
    "## Question 1: \n",
    "\n",
    "Summary of Haykin NN edition 2 : chapter 3.1-3.5."
   ]
  },
  {
   "cell_type": "markdown",
   "metadata": {
    "deletable": true,
    "editable": true
   },
   "source": [
    "#### Answer 1:\n",
    "\n",
    "##### Single Layer Perceptrons\n",
    "\n",
    "- Perceptron is the simplest form of neural network with varying weights that enables classification of linearly separable patterns.\n",
    "\n",
    "- It consists of a single neuron with adjustable synaptic weight and bias, and is able to classify two linearly separable classes. \n",
    "\n",
    "- These free parameters are adjsuted during training to learn the weights that enables linear separation of the classes \n",
    "\n",
    "- These parameters represent a decision hyperplane  between these classes.\n",
    "\n",
    "##### Adaptive Filtering Problem\n",
    "\n",
    "- Considering a dynamical system, whose mathematical characterization is unknown.\n",
    "\n",
    "- The adaptive filtering problem addresses how to design a multiple input and single output model of the aforemetntioned dynamic system by building it around a single linear neuron.\n",
    "\n",
    "- This model operates under the influence of an algorithm that controls how the synaptic weights of the neuron are updated.\n",
    "\n",
    "    - The algorithm starts from arbitary setting of the synaptic weight.\n",
    "    \n",
    "    - Adjustments to these weights are made continuously in respinse to statistical variations in the system's behaviour.\n",
    "    \n",
    "    - Computation of these adjustments are completed in a time interval that is one sampling period long.\n",
    "    \n",
    "- The operation conssists of two continuous processes:\n",
    "\n",
    "    - *Filtering process*, which involves computation of the two signals:\n",
    "    \n",
    "        - Output signal, on the basis of the input vector on the  model represented by the neuron.\n",
    "        \n",
    "        - Error Signal, which is the difference of the output signal from the desired output (produced by the unknown system)\n",
    "        \n",
    "    - Adaptive process, which invovles automatic adjustment of the weights of the model, in accordance to the error produced.\n",
    "    \n",
    "- Thus the two processes work together to constitute a feedback loop around the neuron.  \n",
    "\n",
    "#####  Unconstrained Optimization Techniques\n",
    "\n",
    "Considering a cost function $\\varepsilon(w)$ that is continuously differentiable function of some unknown weight vector $w$. This function is a measure of how to choose the weight vector $w$ of an adaptive filtering algorithm so it behaves in an optimum manner. We want to find an optimal solutuion $w^*$, which satisfies,\n",
    "$$\\varepsilon(w^*) \\leq \\varepsilon(w)$$\n",
    "\n",
    "So, we need to minimize the cost function with respect to weight vector. That is, for optimality,\n",
    "\n",
    "$$\\nabla \\varepsilon(w^*)=0$$\n",
    "\n",
    "Methods:\n",
    "\n",
    "- *Method of Steepest descent* is applied to the weight vector w are in the direction of the steepest descent. This will be acting in the direction opposite to the gradient vector.\n",
    "$$ w(n+1) = w(n) - \\nabla \\varepsilon (w)$$\n",
    "\n",
    "- *Newton's Method* esentially minimizes the quadratic approximation of cost function around the current weight.\n",
    "$$ w(n+1) = w(n) - {H}^{-1}(n)g(n) $$\n",
    "Where,\n",
    "$H(n)=\\nabla\\nabla\\varepsilon(w(n))$, and\n",
    "$g(n)=\\nabla \\varepsilon (w(n))$\n",
    "\n",
    "- *Gauss-Newton Method* is a special case of the Newton's method and is applicable only to a cost function that is expressed as the sum of error squares.\n",
    "$$\\varepsilon(w)=\\frac{1}{2}\\sum_{i=1}^{n}e^2(i)$$\n",
    "The weight vector is trained by all the data from the entire observation interval till $n$. Thus it is a batch learning procedure\n",
    "\n",
    "##### Linear Least-Squares Filter\n",
    "\n",
    "- Characteristics:\n",
    "\n",
    "    - The single neuron around which it is built is linear.\n",
    "    - The cost function $\\varepsilon(w)$ used to design the filter consists of sum if error squares, similar to that of Gauss-Newton method.\n",
    "        $$w(n+1)=X^+(n)d(n)$$\n",
    "    where, \n",
    "        \\begin{align*}\n",
    "        d(n) &= \\text{Desired output vector}\\\\\n",
    "        &=\\begin{bmatrix}d(1)\\\\d(2)\\\\.\\\\.\\\\d(n)\\end{bmatrix}\\\\\n",
    "        X^+(n) &= \\text{pseudoinverse of the data matrix } X(n)\\\\\n",
    "        X(n) &= \\text{Input data matrix }\\\\\n",
    "        &=\\begin{bmatrix}x(1)\\\\x(2)\\\\.\\\\.\\\\x(n)\\end{bmatrix}\\\\\n",
    "        \\end{align*}\n",
    "- Wiener Filter:\n",
    "\n",
    "    - It is the limiting form of the linear least-squares filter for an Ergodic environment.\n",
    "    - In such a case, we can substitute the long term sample aversages or time-averages for expectations.\n",
    "    - Then above equation can be rewritten using second order statistics as:\n",
    "        $$w_o=R_x^{-1}r_{xd}$$\n",
    "        where,\n",
    "        \\begin{align*}\n",
    "        R_x &= \\text{Correlation matrix of input vector }x(i)\\\\\n",
    "        r_{xd}&= \\text{Cross-correlation vector between the input vector }x(i)\\text{ and the desired output }d(i)\\\\\n",
    "        w_o &=\\text{Weiner Solution, to the linear optimum filtering problem}\n",
    "        \\end{align*}\n",
    "    \n",
    "##### Least Mean Square Algorithm\n",
    "\n",
    "- Characteristics:\n",
    "\n",
    "    - It is based on the use of instantaneous values of the cost function, i.e.,\n",
    "        $$\\varepsilon(w)=\\frac{1}{2}e^2(n)$$\n",
    "    - It can be formulated as,\n",
    "        $$\\hat w(n+1)=\\hat w(n)+\\eta x(n)e(n)$$\n",
    "\n",
    "- Convergence consideration:\n",
    "\n",
    "    - LMS algorithm is convergent in mean square in the below mentioned region:\n",
    "        $$0<\\eta<\\frac{2}{\\lambda_{max}}$$\n",
    "      Where, $\\lambda_{max}$ is the largest eigen value of the correlation matrix of the input vector.\n",
    "\n",
    "- Virtues and Limitations:\n",
    "\n",
    "    - Virtues:\n",
    "    \n",
    "        - Simple\n",
    "        - Independent and Robust; i.e., small model uncertainity and small disturbance.\n",
    "        - LMS is optimal in accordance to $H^{\\infty}$ or minimax criterion.\n",
    "        \n",
    "    - Limitations:\n",
    "    \n",
    "        - Slow rate of convergence.\n",
    "        - Sensitivity to variation in Eigen structure of input."
   ]
  },
  {
   "cell_type": "markdown",
   "metadata": {
    "deletable": true,
    "editable": true
   },
   "source": [
    "---\n",
    "## Question 2 (Haykin Edition:2, Ex: 3.1): \n",
    "\n",
    "Explore the method of steepest descent involving a single weight $w$ by considering the following cost function:\n",
    "$$\\varepsilon(w)=\\frac{1}{2}\\sigma^2-r_{xd}w+\\frac{1}{2}r_xw^2$$\n",
    "where, $\\sigma^2$,$r_{xd}$ and $r_x$ are constants."
   ]
  },
  {
   "cell_type": "markdown",
   "metadata": {
    "deletable": true,
    "editable": true
   },
   "source": [
    "#### Answer 2:"
   ]
  },
  {
   "cell_type": "code",
   "execution_count": 2,
   "metadata": {
    "collapsed": false,
    "deletable": true,
    "editable": true
   },
   "outputs": [
    {
     "data": {
      "image/png": "[encoded data removed]",
      "text/latex": [
       "$$1.0 r_{x} w - r_{xd}$$"
      ],
      "text/plain": [
       "1.0⋅rₓ⋅w - r_xd"
      ]
     },
     "execution_count": 2,
     "metadata": {},
     "output_type": "execute_result"
    }
   ],
   "source": [
    "s,r_xd,r_x,w=sp.symbols('s,r_xd,r_x,w')\n",
    "\n",
    "e=1./2.*s**2-r_xd*w+1./2.*r_x*w**2\n",
    "\n",
    "nabla=sp.diff(e,w)\n",
    "nabla"
   ]
  },
  {
   "cell_type": "markdown",
   "metadata": {
    "deletable": true,
    "editable": true
   },
   "source": [
    "So, Gradient, \n",
    "\\begin{align*}\n",
    "\\nabla \\varepsilon (w)  &= \\frac {\\partial \\varepsilon(w) } {\\partial w}\\\\\n",
    "&=-r_{xd}+r_xw\n",
    "\\end{align*}\n",
    "\n",
    "According to steepest descent method, weight vector is updated in the direction of the steepest descent, i.e., in the direction opposite to the gradient vector.\n",
    "\n",
    "So, $\\Delta w=-\\eta \\nabla \\varepsilon (w)$, where $\\eta$ is the learning rate\n",
    "\n",
    "Now, updated weight is:\n",
    "\n",
    "\\begin{align*}\n",
    " w(n+1) &= w(n) + \\Delta w\\\\\n",
    " &=w(n)- \\eta (-r_{xd}+r_xw)\n",
    "\\end{align*}"
   ]
  },
  {
   "cell_type": "markdown",
   "metadata": {
    "deletable": true,
    "editable": true
   },
   "source": [
    "*Notes from class solution:*\n",
    "- Represent cost function as $\\varepsilon=\\varepsilon_{min} + \\lambda (w-w^*)$\n",
    "\n",
    "Simplified expression:\n",
    "$$\\varepsilon=\\underbrace{\\frac{\\sigma^2r_x^2-r_{xd}^2}{2r_x}}_{\\varepsilon_{min}}+\\underbrace{\\frac{r_x}{2}}_\\lambda{(w-\\frac{r_{xd}}{r_x})}^2$$\n",
    "\n",
    "\\begin{align*}\n",
    "\\frac{d\\varepsilon}{dw}&=2\\lambda(w-w^*)\n",
    "\\end{align*}\n",
    "\n",
    "Now, for $w_1$,\n",
    "\\begin{align*}\n",
    "w_1&=\\frac{d\\varepsilon}{dw}w_0+2\\mu \\lambda w^*\\\\\n",
    "&=(1-2\\lambda)\\\\\n",
    "W_k&=\n",
    "\\end{align*}\n",
    "\n",
    "Finally,\n",
    "$$0<\\mu<\\frac{1}{\\lambda}$$\n",
    "$$0<\\mu<\\frac{2}{r_x}$$"
   ]
  },
  {
   "cell_type": "markdown",
   "metadata": {
    "deletable": true,
    "editable": true
   },
   "source": [
    "\n",
    "---\n",
    "## Question 3 (Haykin Edition:2, Ex: 3.2): \n",
    "\n",
    "Consider the cost function\n",
    "$$\\varepsilon(w)=\\frac{1}{2}\\sigma^2-r_{xd}^Tw+\\frac{1}{2}w^TR_xw$$\n",
    "where, $\\sigma^2$,$r_{xd}$ and $r_x$ are constants.\n",
    "$$r_{xd}=\\begin{bmatrix}0.8182\\\\0.354\\end{bmatrix}$$\n",
    "$$R_x\\begin{bmatrix}1 & 0.8182\\\\0.8182 & 1\\end{bmatrix}$$"
   ]
  },
  {
   "cell_type": "markdown",
   "metadata": {
    "deletable": true,
    "editable": true
   },
   "source": [
    "### 3(a)\n",
    "Find the optimum value of $w^*$ for which $\\varepsilon(w)$ reaches it's minimum value."
   ]
  },
  {
   "cell_type": "markdown",
   "metadata": {
    "deletable": true,
    "editable": true
   },
   "source": [
    "#### Answer 3(a):\n",
    "$\\varepsilon(w)$ will reach maximum value when it's Jacobian will be zero."
   ]
  },
  {
   "cell_type": "code",
   "execution_count": 2,
   "metadata": {
    "collapsed": false,
    "deletable": true,
    "editable": true
   },
   "outputs": [
    {
     "name": "stdout",
     "output_type": "stream",
     "text": [
      "Jacobian Matrix is:\n"
     ]
    },
    {
     "data": {
      "image/png": "[encoded data removed]",
      "text/latex": [
       "$$\\left[\\begin{matrix}-0.8182 + 0.5 \\left(2 w_{0, 0} + 1.6364 w_{1, 0}\\right) & -0.354 + 0.5 \\left(1.6364 w_{0, 0} + 2 w_{1, 0}\\right)\\end{matrix}\\right]$$"
      ],
      "text/plain": [
       "[-0.8182 + 0.5⋅(2⋅w₀₀ + 1.6364⋅w₁₀)  -0.354 + 0.5⋅(1.6364⋅w₀₀ + 2⋅w₁₀)]"
      ]
     },
     "execution_count": 2,
     "metadata": {},
     "output_type": "execute_result"
    }
   ],
   "source": [
    "s=sp.symbols('s')\n",
    "w=sp.MatrixSymbol('w',2,1)\n",
    "r_xd=sp.Matrix([[0.8182],[0.354]])\n",
    "R_x=sp.Matrix([[1,0.8182],[0.8182,1]])\n",
    "\n",
    "e=1./2.*s**2-r_xd.T.dot(sp.Matrix(w))+1./2.*sp.Matrix(w).T.dot(R_x.dot(sp.Matrix(w)))\n",
    "e=sp.Matrix([e])\n",
    "symbolic_jacobian=e.jacobian(w)\n",
    "print \"Jacobian Matrix is:\"\n",
    "symbolic_jacobian"
   ]
  },
  {
   "cell_type": "code",
   "execution_count": 3,
   "metadata": {
    "collapsed": false,
    "deletable": true,
    "editable": true
   },
   "outputs": [
    {
     "name": "stdout",
     "output_type": "stream",
     "text": [
      "optimum values of weight, w*:\n"
     ]
    },
    {
     "data": {
      "image/png": "[encoded data removed]",
      "text/latex": [
       "$$\\left[\\begin{matrix}\\left \\{ w_{0, 0} : 1.59902944424901, \\quad w_{1, 0} : -0.954325891284541\\right \\}\\end{matrix}\\right]$$"
      ],
      "text/plain": [
       "[{w₀₀: 1.59902944424901, w₁₀: -0.954325891284541}]"
      ]
     },
     "execution_count": 3,
     "metadata": {},
     "output_type": "execute_result"
    }
   ],
   "source": [
    "print \"optimum values of weight, w*:\"\n",
    "sp.Matrix([sp.solve(symbolic_jacobian,sp.Matrix(w))])"
   ]
  },
  {
   "cell_type": "markdown",
   "metadata": {
    "deletable": true,
    "editable": true
   },
   "source": [
    "### 3(b) \n",
    "<p>Use the method of steepest descent to compute $w^*$ for the following two values of learning rate parameter:</p>\n",
    "    (i)  $\\eta=0.3$\n",
    "    (ii) $\\eta=1.0$\n",
    "<p>For each case, plot the trajectory traced the evolution of the weight vector $w(n)$ in the W-Plane.</p>\n",
    "<p>*Note*: The trajectories obtained for cases (i) and (ii) of part (b) should correspond to the picture in Fig. 3.2</p>\n"
   ]
  },
  {
   "cell_type": "code",
   "execution_count": 5,
   "metadata": {
    "collapsed": false,
    "deletable": true,
    "editable": true
   },
   "outputs": [
    {
     "data": {
      "image/png": "[encoded data removed]",
      "text/plain": [
       "<IPython.core.display.Image object>"
      ]
     },
     "execution_count": 5,
     "metadata": {},
     "output_type": "execute_result"
    }
   ],
   "source": [
    "IPython.display.Image(\"images/HaykinFig3.2.png\")"
   ]
  },
  {
   "cell_type": "markdown",
   "metadata": {
    "deletable": true,
    "editable": true
   },
   "source": [
    "#### Answer 3(b):"
   ]
  },
  {
   "cell_type": "code",
   "execution_count": 13,
   "metadata": {
    "collapsed": false,
    "deletable": true,
    "editable": true
   },
   "outputs": [
    {
     "name": "stdout",
     "output_type": "stream",
     "text": [
      "(2, 1)\n",
      "Learning Rate:  0.3\n",
      "Reached optimum value\n",
      "Absolute change in weight is less than 10^(-5), exiting loop.\n",
      "!!!!! (180, 1, 1)\n",
      "optimum values of weight, w*: [[1.59897673946915 -0.954273186504682]]\n",
      "Total iterations required: 181\n",
      "(181, 2)\n"
     ]
    },
    {
     "ename": "ValueError",
     "evalue": "x and y must be the same size",
     "output_type": "error",
     "traceback": [
      "\u001b[0;31m---------------------------------------------------------------------------\u001b[0m",
      "\u001b[0;31mValueError\u001b[0m                                Traceback (most recent call last)",
      "\u001b[0;32m<ipython-input-13-2024738dc5b8>\u001b[0m in \u001b[0;36m<module>\u001b[0;34m()\u001b[0m\n\u001b[1;32m     49\u001b[0m \u001b[0meta2\u001b[0m \u001b[0;34m=\u001b[0m \u001b[0;36m1.0\u001b[0m\u001b[0;34m\u001b[0m\u001b[0m\n\u001b[1;32m     50\u001b[0m \u001b[0mmax_iteration\u001b[0m \u001b[0;34m=\u001b[0m\u001b[0;36m1000\u001b[0m\u001b[0;34m\u001b[0m\u001b[0m\n\u001b[0;32m---> 51\u001b[0;31m \u001b[0msteepest_desc\u001b[0m\u001b[0;34m(\u001b[0m\u001b[0minitial_weight\u001b[0m\u001b[0;34m,\u001b[0m\u001b[0meta1\u001b[0m\u001b[0;34m,\u001b[0m\u001b[0mmax_iteration\u001b[0m\u001b[0;34m)\u001b[0m\u001b[0;34m\u001b[0m\u001b[0m\n\u001b[0m\u001b[1;32m     52\u001b[0m \u001b[0msteepest_desc\u001b[0m\u001b[0;34m(\u001b[0m\u001b[0minitial_weight\u001b[0m\u001b[0;34m,\u001b[0m\u001b[0meta2\u001b[0m\u001b[0;34m,\u001b[0m\u001b[0mmax_iteration\u001b[0m\u001b[0;34m)\u001b[0m\u001b[0;34m\u001b[0m\u001b[0m\n",
      "\u001b[0;32m<ipython-input-13-2024738dc5b8>\u001b[0m in \u001b[0;36msteepest_desc\u001b[0;34m(weight, eta, max_iteration)\u001b[0m\n\u001b[1;32m     38\u001b[0m     \u001b[0;31m#TODO: from class: plot contour\u001b[0m\u001b[0;34m\u001b[0m\u001b[0;34m\u001b[0m\u001b[0m\n\u001b[1;32m     39\u001b[0m     \u001b[0;31m#plt.contour(wt_matrix[:,0],wt_matrix[:,1],e_matrix[:])\u001b[0m\u001b[0;34m\u001b[0m\u001b[0;34m\u001b[0m\u001b[0m\n\u001b[0;32m---> 40\u001b[0;31m     \u001b[0mplt\u001b[0m\u001b[0;34m.\u001b[0m\u001b[0mscatter\u001b[0m\u001b[0;34m(\u001b[0m\u001b[0me_matrix\u001b[0m\u001b[0;34m,\u001b[0m\u001b[0mnp\u001b[0m\u001b[0;34m.\u001b[0m\u001b[0mlinspace\u001b[0m\u001b[0;34m(\u001b[0m\u001b[0;36m0\u001b[0m\u001b[0;34m,\u001b[0m\u001b[0;36m200\u001b[0m\u001b[0;34m)\u001b[0m\u001b[0;34m)\u001b[0m\u001b[0;34m\u001b[0m\u001b[0m\n\u001b[0m\u001b[1;32m     41\u001b[0m     \u001b[0mplt\u001b[0m\u001b[0;34m.\u001b[0m\u001b[0mxlabel\u001b[0m\u001b[0;34m(\u001b[0m\u001b[0;34m\"w1(n)\"\u001b[0m\u001b[0;34m)\u001b[0m\u001b[0;34m\u001b[0m\u001b[0m\n\u001b[1;32m     42\u001b[0m     \u001b[0mplt\u001b[0m\u001b[0;34m.\u001b[0m\u001b[0mylabel\u001b[0m\u001b[0;34m(\u001b[0m\u001b[0;34m\"w2(n)\"\u001b[0m\u001b[0;34m)\u001b[0m\u001b[0;34m\u001b[0m\u001b[0m\n",
      "\u001b[0;32m/home/debaraj/anaconda2/lib/python2.7/site-packages/matplotlib/pyplot.pyc\u001b[0m in \u001b[0;36mscatter\u001b[0;34m(x, y, s, c, marker, cmap, norm, vmin, vmax, alpha, linewidths, verts, edgecolors, hold, data, **kwargs)\u001b[0m\n\u001b[1;32m   3432\u001b[0m                          \u001b[0mvmin\u001b[0m\u001b[0;34m=\u001b[0m\u001b[0mvmin\u001b[0m\u001b[0;34m,\u001b[0m \u001b[0mvmax\u001b[0m\u001b[0;34m=\u001b[0m\u001b[0mvmax\u001b[0m\u001b[0;34m,\u001b[0m \u001b[0malpha\u001b[0m\u001b[0;34m=\u001b[0m\u001b[0malpha\u001b[0m\u001b[0;34m,\u001b[0m\u001b[0;34m\u001b[0m\u001b[0m\n\u001b[1;32m   3433\u001b[0m                          \u001b[0mlinewidths\u001b[0m\u001b[0;34m=\u001b[0m\u001b[0mlinewidths\u001b[0m\u001b[0;34m,\u001b[0m \u001b[0mverts\u001b[0m\u001b[0;34m=\u001b[0m\u001b[0mverts\u001b[0m\u001b[0;34m,\u001b[0m\u001b[0;34m\u001b[0m\u001b[0m\n\u001b[0;32m-> 3434\u001b[0;31m                          edgecolors=edgecolors, data=data, **kwargs)\n\u001b[0m\u001b[1;32m   3435\u001b[0m     \u001b[0;32mfinally\u001b[0m\u001b[0;34m:\u001b[0m\u001b[0;34m\u001b[0m\u001b[0m\n\u001b[1;32m   3436\u001b[0m         \u001b[0max\u001b[0m\u001b[0;34m.\u001b[0m\u001b[0m_hold\u001b[0m \u001b[0;34m=\u001b[0m \u001b[0mwashold\u001b[0m\u001b[0;34m\u001b[0m\u001b[0m\n",
      "\u001b[0;32m/home/debaraj/anaconda2/lib/python2.7/site-packages/matplotlib/__init__.pyc\u001b[0m in \u001b[0;36minner\u001b[0;34m(ax, *args, **kwargs)\u001b[0m\n\u001b[1;32m   1896\u001b[0m                     warnings.warn(msg % (label_namer, func.__name__),\n\u001b[1;32m   1897\u001b[0m                                   RuntimeWarning, stacklevel=2)\n\u001b[0;32m-> 1898\u001b[0;31m             \u001b[0;32mreturn\u001b[0m \u001b[0mfunc\u001b[0m\u001b[0;34m(\u001b[0m\u001b[0max\u001b[0m\u001b[0;34m,\u001b[0m \u001b[0;34m*\u001b[0m\u001b[0margs\u001b[0m\u001b[0;34m,\u001b[0m \u001b[0;34m**\u001b[0m\u001b[0mkwargs\u001b[0m\u001b[0;34m)\u001b[0m\u001b[0;34m\u001b[0m\u001b[0m\n\u001b[0m\u001b[1;32m   1899\u001b[0m         \u001b[0mpre_doc\u001b[0m \u001b[0;34m=\u001b[0m \u001b[0minner\u001b[0m\u001b[0;34m.\u001b[0m\u001b[0m__doc__\u001b[0m\u001b[0;34m\u001b[0m\u001b[0m\n\u001b[1;32m   1900\u001b[0m         \u001b[0;32mif\u001b[0m \u001b[0mpre_doc\u001b[0m \u001b[0;32mis\u001b[0m \u001b[0mNone\u001b[0m\u001b[0;34m:\u001b[0m\u001b[0;34m\u001b[0m\u001b[0m\n",
      "\u001b[0;32m/home/debaraj/anaconda2/lib/python2.7/site-packages/matplotlib/axes/_axes.pyc\u001b[0m in \u001b[0;36mscatter\u001b[0;34m(self, x, y, s, c, marker, cmap, norm, vmin, vmax, alpha, linewidths, verts, edgecolors, **kwargs)\u001b[0m\n\u001b[1;32m   3962\u001b[0m         \u001b[0my\u001b[0m \u001b[0;34m=\u001b[0m \u001b[0mnp\u001b[0m\u001b[0;34m.\u001b[0m\u001b[0mma\u001b[0m\u001b[0;34m.\u001b[0m\u001b[0mravel\u001b[0m\u001b[0;34m(\u001b[0m\u001b[0my\u001b[0m\u001b[0;34m)\u001b[0m\u001b[0;34m\u001b[0m\u001b[0m\n\u001b[1;32m   3963\u001b[0m         \u001b[0;32mif\u001b[0m \u001b[0mx\u001b[0m\u001b[0;34m.\u001b[0m\u001b[0msize\u001b[0m \u001b[0;34m!=\u001b[0m \u001b[0my\u001b[0m\u001b[0;34m.\u001b[0m\u001b[0msize\u001b[0m\u001b[0;34m:\u001b[0m\u001b[0;34m\u001b[0m\u001b[0m\n\u001b[0;32m-> 3964\u001b[0;31m             \u001b[0;32mraise\u001b[0m \u001b[0mValueError\u001b[0m\u001b[0;34m(\u001b[0m\u001b[0;34m\"x and y must be the same size\"\u001b[0m\u001b[0;34m)\u001b[0m\u001b[0;34m\u001b[0m\u001b[0m\n\u001b[0m\u001b[1;32m   3965\u001b[0m \u001b[0;34m\u001b[0m\u001b[0m\n\u001b[1;32m   3966\u001b[0m         \u001b[0;32mif\u001b[0m \u001b[0ms\u001b[0m \u001b[0;32mis\u001b[0m \u001b[0mNone\u001b[0m\u001b[0;34m:\u001b[0m\u001b[0;34m\u001b[0m\u001b[0m\n",
      "\u001b[0;31mValueError\u001b[0m: x and y must be the same size"
     ]
    }
   ],
   "source": [
    "#Lambda function for substitution of weight into symbolic jacobian matrix.\n",
    "delta_wt_func=sp.lambdify((w),symbolic_jacobian) \n",
    "e_val_func=sp.lambdify((w),e)\n",
    "\n",
    "def steepest_desc(weight, eta, max_iteration):\n",
    "    found_optimum=False\n",
    "    iteration=0\n",
    "    wt_matrix=np.array(weight).T\n",
    "    e_matrix=[]\n",
    "    print \"Learning Rate: \", eta\n",
    "    while (found_optimum==False and iteration<max_iteration):\n",
    "        iteration+=1\n",
    "        delta_wt=delta_wt_func(weight)\n",
    "        e_val=e_val_func(weight)\n",
    "        \n",
    "        if(abs(delta_wt.all())<1e-5):\n",
    "            \"\"\"\n",
    "            If absolute change in weight is less than 10^(-5), \n",
    "            we consider we have reached the optimal solution\n",
    "            \"\"\"\n",
    "            print \"Reached optimum value\"\n",
    "            print \"Absolute change in weight is less than 10^(-5), exiting loop.\"\n",
    "            found_optimum=True\n",
    "            break\n",
    "        else:\n",
    "            e_matrix.append(e_val)\n",
    "            weight+=-eta*delta_wt.T\n",
    "            wt_matrix=np.vstack((wt_matrix,weight.T))\n",
    "    \n",
    "    e_matrix=np.array(e_matrix)\n",
    "    print \"!!!!!\", e_matrix.shape\n",
    "    if iteration==max_iteration:\n",
    "        print \"Max iteration reached!\"\n",
    "    print \"optimum values of weight, w*:\",np.array(weight).T\n",
    "    print \"Total iterations required:\",iteration\n",
    "    #print wt_matrix.shape\n",
    "    plt.plot(wt_matrix[:,0],wt_matrix[:,1])\n",
    "    #TODO: from class: plot contour\n",
    "    #plt.contour(wt_matrix[:,0],wt_matrix[:,1],e_matrix[:])\n",
    "    plt.scatter(e_matrix,np.linspace(0,200))\n",
    "    plt.xlabel(\"w1(n)\")\n",
    "    plt.ylabel(\"w2(n)\")\n",
    "    plt.title((\"Learning Rate\",eta))\n",
    "    plt.show()\n",
    "            \n",
    "initial_weight = sp.Matrix([[0],[0]])\n",
    "print initial_weight.shape\n",
    "eta1 = 0.3\n",
    "eta2 = 1.0\n",
    "max_iteration =1000\n",
    "steepest_desc(initial_weight,eta1,max_iteration)\n",
    "steepest_desc(initial_weight,eta2,max_iteration)\n"
   ]
  },
  {
   "cell_type": "markdown",
   "metadata": {
    "deletable": true,
    "editable": true
   },
   "source": [
    "---\n",
    "## Question 4 (Haykin Edition:2, Ex: 3.4): \n",
    "\n",
    "The correlation matrix $R_x$ of the input vector $x(n)$ in the LMS algorithm is defined by\n",
    "$$R_x=\\begin{bmatrix}1&0.5\\\\0.5&1\\end{bmatrix}$$\n",
    "Define the range of values for the learning-rate parameter $\\eta$ of the LMS algorithm for it to be convergent in the mean square."
   ]
  },
  {
   "cell_type": "markdown",
   "metadata": {
    "deletable": true,
    "editable": true
   },
   "source": [
    "#### Answer 4:\n",
    "LMS algorithm is convergent in mean square in the below mentioned region:\n",
    "$$0<\\eta<\\frac{2}{\\lambda_{max}}$$\n",
    "Where, $\\lambda_{max}$ is the largest eigen value of the correlation matrix of the input vector.\n",
    "\n",
    "*Class Inputs*\n",
    "\n",
    "Or,\n",
    "$$0<\\eta<\\frac{2}{tr[R_x]}$$\n",
    "and $tr[R_x]$ is the trace of the correlation matrix R_x, which is easier to calculate than the $\\lambda_{max}$"
   ]
  },
  {
   "cell_type": "code",
   "execution_count": 16,
   "metadata": {
    "collapsed": false,
    "deletable": true,
    "editable": true
   },
   "outputs": [
    {
     "name": "stdout",
     "output_type": "stream",
     "text": [
      "According to largest eigen value, Range of values for learning rate: (0, 1.33333333333 )\n",
      "According to trace, Range of values for learning rate: (0, 1.0 )\n"
     ]
    }
   ],
   "source": [
    "R_x=np.array([[1,0.5],[0.5,1]])\n",
    "\n",
    "eigval,eigvec=np.linalg.eig(R_x)\n",
    "max_eigvalue=eigval[np.argmax(eigval)]\n",
    "print \"According to largest eigen value, Range of values for learning rate: (0,\",2./max_eigvalue,\")\"\n",
    "\n",
    "#After inputs in class.\n",
    "trace=np.trace(R_x)\n",
    "print \"According to trace, Range of values for learning rate: (0,\",2/trace,\")\""
   ]
  },
  {
   "cell_type": "markdown",
   "metadata": {
    "deletable": true,
    "editable": true
   },
   "source": [
    "---\n",
    "## Question 5 (Haykin Edition:2, Ex: 3.8): \n",
    "\n",
    "The ensemble-averaged counterpart of the sum of error squares viewed as a cost function is the mean-square value of the error signal:\n",
    "\\begin{align*}\n",
    "J(w)&=\\frac{1}{2}E[e^2(n)]\\\\\n",
    "&=\\frac{1}{2}E[{(d(n)-x^T(n)w)}^2]\n",
    "\\end{align*}"
   ]
  },
  {
   "cell_type": "markdown",
   "metadata": {
    "deletable": true,
    "editable": true
   },
   "source": [
    "### 5(a)\n",
    "Assuming that the input vector $x(n)$ and the desired response $d(n)$ are drawn from a stationary environment, show that\n",
    "$$J(w)=\\frac{1}{2}\\sigma^2_d-r^T_{xd}w+\\frac{1}{2}w^TR_xw\\\\$$\n",
    "where,\n",
    "\\begin{align*}\n",
    "\\sigma_d^2&=E[d^2(n)]\\\\\n",
    "r_{xd}&==E[x(n)d(n)]\\\\\n",
    "R_x&==E[x(n)x^T(n)]\\\\\n",
    "\\end{align*}"
   ]
  },
  {
   "cell_type": "markdown",
   "metadata": {
    "deletable": true,
    "editable": true
   },
   "source": [
    "### Answer:\n",
    "\n",
    "Given: \n",
    "\\begin{align*}\n",
    "J(w)&=\\frac{1}{2}E[{(d(n)-x^T(n)w)}^2]\\\\\n",
    "&=\\frac{1}{2}E[{d}^2(n)-2\\cdot d(n)x^T(n)w+(x^T(n)w)^2]\\\\\n",
    "\\end{align*}\n",
    "\n",
    "Since expectation is a linear operator:\n",
    "\\begin{align*}\n",
    "&=\\frac{1}{2}E[{d}^2(n)]-\\frac{1}{2}\\cdot 2\\cdot E[d(n)x^T(n)w]+\\frac{1}{2}E[(x^T(n)w)^2]\\\\\n",
    "&=\\frac{1}{2}E[{d}^2(n)]-E[d(n)x^T(n)w]+\\frac{1}{2}E[(x^T(n)w)^T(x^T(n)w)]\\\\\n",
    "&=\\frac{1}{2}E[{d}^2(n)]-E[d(n)x^T(n)w]+\\frac{1}{2}E[w^Tx(n)x^T(n)w]\\\\\n",
    "&=\\frac{1}{2}E[{d}^2(n)]-E[d(n)x^T(n)]w+\\frac{1}{2}w^TE[x(n)x^T(n)]w\\\\\n",
    "\\end{align*}\n",
    "\n",
    "Substituting $\\sigma_d^2, r_{xd}^T = E[d(n)x^T(n)]$ and $R_x$, we have:\n",
    "$$J(w)=\\frac{1}{2}\\sigma^2_d-r^T_{xd}w+\\frac{1}{2}w^TR_xw\\\\$$\n",
    "which is the required proof."
   ]
  },
  {
   "cell_type": "markdown",
   "metadata": {
    "deletable": true,
    "editable": true
   },
   "source": [
    "### 5(b)\n",
    "For this cost function, show that the gradient vector and the Hessian matrix of $J(w)$ are as follows, respectively:\n",
    "\\begin{align*}\n",
    "g &= -r_{xd}+R_xw\\\\\n",
    "H&=R_x\n",
    "\\end{align*}"
   ]
  },
  {
   "cell_type": "markdown",
   "metadata": {
    "deletable": true,
    "editable": true
   },
   "source": [
    "### Answer:\n",
    "\n",
    "The gradient vector is obtained by partial differentiation of J(w) with respect to w:\n",
    "\\begin{align*}\n",
    "\\nabla J(w)&=g=-r_{xd}+R_xw\n",
    "\\end{align*}\n",
    "\n",
    "The Hessian matrix is the partial derivative of gradient vector with respect to w:\n",
    "\\begin{align*}\n",
    "H&=\\nabla g=R_x\n",
    "\\end{align*}"
   ]
  },
  {
   "cell_type": "markdown",
   "metadata": {
    "deletable": true,
    "editable": true
   },
   "source": [
    "### 5(c)\n",
    "In the *LMS/Newton algorithm*, the gradient vector g is replaced by its instantaneous value (*Widrow and Stearns, 1985*). Show that this algorithm, incorporating a learning rate parameter $\\eta$, is described by\n",
    "$$\\hat w(n+1)=\\hat w(n)+\\eta R^{-1}_x x(n) (d(n)-x^T(n)w(n))$$\n",
    "The inverse of the correlation matrix $R_x$, assumed to be positive definite, is calculated ahead of time."
   ]
  },
  {
   "cell_type": "markdown",
   "metadata": {
    "deletable": true,
    "editable": true
   },
   "source": [
    "### Answer:\n",
    "\n",
    "From Newton's Method:\n",
    "\\begin{align*}\n",
    "\\Delta w&=-H^{-1}g\n",
    "\\end{align*}\n",
    "\n",
    "For the given cost function, from 5(b), we know that Hessian matrix is:\n",
    "\\begin{align*}\n",
    "H&=R_x\n",
    "\\end{align*}\n",
    "\n",
    "We also know the instantaneous value of the gradient vector is given by:\n",
    "\\begin{align*}\n",
    "\\hat g&=-x(n)(e(n))\\\\\n",
    "\\hat g&=-x(n)(d(n)-x^T(n)w(n))\n",
    "\\end{align*}\n",
    "\n",
    "Therefore,\n",
    "\\begin{align*}\n",
    "\\Delta w&=-R_x^{-1}(-x(n)(d(n)-x^T(n)w(n)))\\\\\n",
    "\\Delta w&=R_x^{-1}x(n)(d(n)-x^T(n)w(n))\n",
    "\\end{align*}\n",
    "\n",
    "Hence, after incorporating learning rate $\\eta$,\n",
    "$$\\hat w(n+1)=\\hat w(n)+\\eta R^{-1}_x x(n) (d(n)-x^T(n)w(n))$$\n",
    "which is the required proof."
   ]
  },
  {
   "cell_type": "markdown",
   "metadata": {
    "deletable": true,
    "editable": true
   },
   "source": [
    "---"
   ]
  }
 ],
 "metadata": {
  "kernelspec": {
   "display_name": "Python 2",
   "language": "python",
   "name": "python2"
  },
  "language_info": {
   "codemirror_mode": {
    "name": "ipython",
    "version": 2
   },
   "file_extension": ".py",
   "mimetype": "text/x-python",
   "name": "python",
   "nbconvert_exporter": "python",
   "pygments_lexer": "ipython2",
   "version": "2.7.13"
  }
 },
 "nbformat": 4,
 "nbformat_minor": 2
}
