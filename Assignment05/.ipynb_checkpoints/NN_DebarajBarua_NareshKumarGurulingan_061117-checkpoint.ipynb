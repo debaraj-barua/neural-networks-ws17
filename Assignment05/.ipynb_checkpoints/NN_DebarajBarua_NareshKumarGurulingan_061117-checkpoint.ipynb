{
 "cells": [
  {
   "cell_type": "markdown",
   "metadata": {},
   "source": [
    "# Hochschule Bonn-Rhein-Sieg\n",
    "\n",
    "# Neural Networks, WS17/18\n",
    "\n",
    "# Assignment 05 (06-november-2017)\n",
    "\n",
    "##  Debaraj Barua, Naresh Kumar Gurulingan"
   ]
  },
  {
   "cell_type": "code",
   "execution_count": 1,
   "metadata": {
    "collapsed": true
   },
   "outputs": [],
   "source": [
    "import numpy as np\n",
    "import matplotlib.pyplot as plt\n",
    "import sympy as sp\n",
    "import IPython"
   ]
  },
  {
   "cell_type": "markdown",
   "metadata": {},
   "source": [
    "---\n",
    "## Question 1: \n",
    "\n",
    "Read Haykin NN edition 2 : chapter 3.1-3.5. Make a summary "
   ]
  },
  {
   "cell_type": "code",
   "execution_count": null,
   "metadata": {
    "collapsed": true
   },
   "outputs": [],
   "source": []
  },
  {
   "cell_type": "markdown",
   "metadata": {},
   "source": [
    "---\n",
    "## Question 2 (Haykin Edition:2, Ex: 3.1): \n",
    "\n",
    "Explore the method of steepest descent involving a single weight $w$ by considering the following cost function:\n",
    "$$\\xi(w)=\\frac{1}{2}\\sigma^2-r_{xd}w+\\frac{1}{2}r_xw^2$$\n",
    "where, $\\sigma^2$,$r_xd$ and $r_x$ are constants."
   ]
  },
  {
   "cell_type": "code",
   "execution_count": null,
   "metadata": {
    "collapsed": true
   },
   "outputs": [],
   "source": []
  },
  {
   "cell_type": "markdown",
   "metadata": {},
   "source": [
    "---\n",
    "## Question 3 (Haykin Edition:2, Ex: 3.1): \n",
    "\n",
    "Consider the cost function\n",
    "$$\\xi(w)=\\frac{1}{2}\\sigma^2-r_{xd}^Tw+\\frac{1}{2}w^TR_xw$$\n",
    "where, $\\sigma^2$,$r_xd$ and $r_x$ are constants.\n",
    "$$r_xd=\\begin{bmatrix}0.8182\\\\0.354\\end{bmatrix}$$\n",
    "$$R_x\\begin{bmatrix}1 & 0.8182\\\\0.8182 & 1\\end{bmatrix}$$"
   ]
  },
  {
   "cell_type": "markdown",
   "metadata": {},
   "source": [
    "### 3(a)\n",
    "Find the optimum value of $w^*$ for which $\\xi(w)$ reaches it's maximum value."
   ]
  },
  {
   "cell_type": "markdown",
   "metadata": {},
   "source": [
    "### 3(b) \n",
    "<p>Use the method of steepest descent to compute $w^*$ for the following two values of learning rate parameter:</p>\n",
    "    <p>(i)  $\\eta=0.3$</p>\n",
    "    <p>(ii) $\\eta=1.0$</p>\n",
    "<p>For each case, plot the trajectory traced the evolution of the weight vector $w(n)$ in the W-Plane.</p>\n",
    "<p>*Note*: The trajectories obtained for cases (i) and (ii) of part (b) should correspond to the picture in Fig. 3.2</p>\n"
   ]
  }
 ],
 "metadata": {
  "kernelspec": {
   "display_name": "Python 2",
   "language": "python",
   "name": "python2"
  },
  "language_info": {
   "codemirror_mode": {
    "name": "ipython",
    "version": 2
   },
   "file_extension": ".py",
   "mimetype": "text/x-python",
   "name": "python",
   "nbconvert_exporter": "python",
   "pygments_lexer": "ipython2",
   "version": "2.7.13"
  }
 },
 "nbformat": 4,
 "nbformat_minor": 2
}
